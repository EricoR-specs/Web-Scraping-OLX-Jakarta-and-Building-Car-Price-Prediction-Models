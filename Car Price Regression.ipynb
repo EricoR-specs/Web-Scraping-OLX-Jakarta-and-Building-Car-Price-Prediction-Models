{
  "cells": [
    {
      "cell_type": "markdown",
      "id": "cde75961",
      "metadata": {
        "id": "cde75961"
      },
      "source": [
        "\n",
        "# 1. Introduction\n",
        "\n",
        "**Name:** Muhammad Erico Ricardo\n",
        "**Project Title:** Used Car Price Regression\n",
        "\n",
        "In this project, I built a machine learning model to **predict used car prices** using **345 data samples** collected from **OLX (Jakarta region only)** through web scraping. The dataset includes cars with **various brands and types**, making it diverse and challenging.\n",
        "\n",
        "I compared the performance of five different regression algorithms:\n",
        "\n",
        "* **Linear Regression**\n",
        "* **Support Vector Regression (SVR)**\n",
        "* **Ridge Regression**\n",
        "* **Decision Tree Regressor**\n",
        "* **XGBoost**\n",
        "\n",
        "If you’re interested in the web scraping process, you can check out the code in the **`Car_Web_Scrapping_olx.ipynb`** notebook.\n"
      ]
    },
    {
      "cell_type": "markdown",
      "id": "RHwHKQ9cwjt1",
      "metadata": {
        "id": "RHwHKQ9cwjt1"
      },
      "source": [
        "# 2. Import Libraries\n"
      ]
    },
    {
      "cell_type": "code",
      "execution_count": 2,
      "id": "SNimr9p3ztYk",
      "metadata": {
        "colab": {
          "base_uri": "https://localhost:8080/"
        },
        "id": "SNimr9p3ztYk",
        "outputId": "c08a0897-4a42-425c-f15d-3dd0f2a65d2a"
      },
      "outputs": [
        {
          "name": "stdout",
          "output_type": "stream",
          "text": [
            "Requirement already satisfied: phik in c:\\users\\muham\\anaconda3\\lib\\site-packages (0.12.4)\n",
            "Requirement already satisfied: numpy>=1.18.0 in c:\\users\\muham\\anaconda3\\lib\\site-packages (from phik) (1.26.4)\n",
            "Requirement already satisfied: scipy>=1.5.2 in c:\\users\\muham\\anaconda3\\lib\\site-packages (from phik) (1.13.1)\n",
            "Requirement already satisfied: pandas>=0.25.1 in c:\\users\\muham\\anaconda3\\lib\\site-packages (from phik) (2.2.2)\n",
            "Requirement already satisfied: matplotlib>=2.2.3 in c:\\users\\muham\\anaconda3\\lib\\site-packages (from phik) (3.8.4)\n",
            "Requirement already satisfied: joblib>=0.14.1 in c:\\users\\muham\\anaconda3\\lib\\site-packages (from phik) (1.4.2)\n",
            "Requirement already satisfied: contourpy>=1.0.1 in c:\\users\\muham\\anaconda3\\lib\\site-packages (from matplotlib>=2.2.3->phik) (1.2.0)\n",
            "Requirement already satisfied: cycler>=0.10 in c:\\users\\muham\\anaconda3\\lib\\site-packages (from matplotlib>=2.2.3->phik) (0.11.0)\n",
            "Requirement already satisfied: fonttools>=4.22.0 in c:\\users\\muham\\anaconda3\\lib\\site-packages (from matplotlib>=2.2.3->phik) (4.51.0)\n",
            "Requirement already satisfied: kiwisolver>=1.3.1 in c:\\users\\muham\\anaconda3\\lib\\site-packages (from matplotlib>=2.2.3->phik) (1.4.4)\n",
            "Requirement already satisfied: packaging>=20.0 in c:\\users\\muham\\anaconda3\\lib\\site-packages (from matplotlib>=2.2.3->phik) (23.2)\n",
            "Requirement already satisfied: pillow>=8 in c:\\users\\muham\\anaconda3\\lib\\site-packages (from matplotlib>=2.2.3->phik) (10.3.0)\n",
            "Requirement already satisfied: pyparsing>=2.3.1 in c:\\users\\muham\\anaconda3\\lib\\site-packages (from matplotlib>=2.2.3->phik) (3.0.9)\n",
            "Requirement already satisfied: python-dateutil>=2.7 in c:\\users\\muham\\anaconda3\\lib\\site-packages (from matplotlib>=2.2.3->phik) (2.9.0.post0)\n",
            "Requirement already satisfied: pytz>=2020.1 in c:\\users\\muham\\anaconda3\\lib\\site-packages (from pandas>=0.25.1->phik) (2024.1)\n",
            "Requirement already satisfied: tzdata>=2022.7 in c:\\users\\muham\\anaconda3\\lib\\site-packages (from pandas>=0.25.1->phik) (2023.3)\n",
            "Requirement already satisfied: six>=1.5 in c:\\users\\muham\\anaconda3\\lib\\site-packages (from python-dateutil>=2.7->matplotlib>=2.2.3->phik) (1.16.0)\n",
            "Requirement already satisfied: feature_engine in c:\\users\\muham\\anaconda3\\lib\\site-packages (1.8.0)\n",
            "Requirement already satisfied: numpy>=1.18.2 in c:\\users\\muham\\anaconda3\\lib\\site-packages (from feature_engine) (1.26.4)\n",
            "Requirement already satisfied: pandas>=2.2.0 in c:\\users\\muham\\anaconda3\\lib\\site-packages (from feature_engine) (2.2.2)\n",
            "Requirement already satisfied: scikit-learn>=1.4.0 in c:\\users\\muham\\anaconda3\\lib\\site-packages (from feature_engine) (1.5.1)\n",
            "Requirement already satisfied: scipy>=1.4.1 in c:\\users\\muham\\anaconda3\\lib\\site-packages (from feature_engine) (1.13.1)\n",
            "Requirement already satisfied: statsmodels>=0.11.1 in c:\\users\\muham\\anaconda3\\lib\\site-packages (from feature_engine) (0.14.2)\n",
            "Requirement already satisfied: python-dateutil>=2.8.2 in c:\\users\\muham\\anaconda3\\lib\\site-packages (from pandas>=2.2.0->feature_engine) (2.9.0.post0)\n",
            "Requirement already satisfied: pytz>=2020.1 in c:\\users\\muham\\anaconda3\\lib\\site-packages (from pandas>=2.2.0->feature_engine) (2024.1)\n",
            "Requirement already satisfied: tzdata>=2022.7 in c:\\users\\muham\\anaconda3\\lib\\site-packages (from pandas>=2.2.0->feature_engine) (2023.3)\n",
            "Requirement already satisfied: joblib>=1.2.0 in c:\\users\\muham\\anaconda3\\lib\\site-packages (from scikit-learn>=1.4.0->feature_engine) (1.4.2)\n",
            "Requirement already satisfied: threadpoolctl>=3.1.0 in c:\\users\\muham\\anaconda3\\lib\\site-packages (from scikit-learn>=1.4.0->feature_engine) (3.5.0)\n",
            "Requirement already satisfied: patsy>=0.5.6 in c:\\users\\muham\\anaconda3\\lib\\site-packages (from statsmodels>=0.11.1->feature_engine) (0.5.6)\n",
            "Requirement already satisfied: packaging>=21.3 in c:\\users\\muham\\anaconda3\\lib\\site-packages (from statsmodels>=0.11.1->feature_engine) (23.2)\n",
            "Requirement already satisfied: six in c:\\users\\muham\\anaconda3\\lib\\site-packages (from patsy>=0.5.6->statsmodels>=0.11.1->feature_engine) (1.16.0)\n"
          ]
        }
      ],
      "source": [
        "!pip install phik\n",
        "!pip install feature_engine"
      ]
    },
    {
      "cell_type": "code",
      "execution_count": 3,
      "id": "3-4hcVdCwn30",
      "metadata": {
        "id": "3-4hcVdCwn30"
      },
      "outputs": [],
      "source": [
        "import matplotlib.pyplot as plt\n",
        "import numpy as np\n",
        "import seaborn as sns\n",
        "import numpy as np\n",
        "import pandas as pd\n",
        "import pickle\n",
        "import json\n",
        "import warnings\n",
        "\n",
        "\n",
        "from phik import phik\n",
        "from feature_engine.outliers import Winsorizer\n",
        "from sklearn.model_selection import train_test_split\n",
        "from sklearn.preprocessing import RobustScaler\n",
        "from sklearn.pipeline import Pipeline\n",
        "from sklearn.compose import ColumnTransformer\n",
        "from sklearn.preprocessing import OneHotEncoder\n",
        "from sklearn.preprocessing import OrdinalEncoder\n",
        "from sklearn.linear_model import LinearRegression\n",
        "from sklearn.svm import SVR\n",
        "from sklearn.linear_model import Ridge\n",
        "from sklearn.model_selection import cross_val_score\n",
        "from sklearn.tree import DecisionTreeRegressor\n",
        "from sklearn.model_selection import GridSearchCV\n",
        "from sklearn.metrics import mean_squared_error\n",
        "from sklearn.exceptions import FitFailedWarning\n",
        "import xgboost as xgb"
      ]
    },
    {
      "cell_type": "markdown",
      "id": "4c95dd41",
      "metadata": {
        "id": "4c95dd41"
      },
      "source": [
        "# 3. Data Loading"
      ]
    },
    {
      "cell_type": "markdown",
      "id": "rR0EpNpE7tL3",
      "metadata": {
        "id": "rR0EpNpE7tL3"
      },
      "source": [
        "## 3.1 Quick Data Overview\n"
      ]
    },
    {
      "cell_type": "code",
      "execution_count": 4,
      "id": "599322f2",
      "metadata": {
        "colab": {
          "base_uri": "https://localhost:8080/",
          "height": 206
        },
        "id": "599322f2",
        "outputId": "50b73021-7f4c-4391-c833-8a6d2f8e0a4f"
      },
      "outputs": [
        {
          "data": {
            "text/html": [
              "<div>\n",
              "<style scoped>\n",
              "    .dataframe tbody tr th:only-of-type {\n",
              "        vertical-align: middle;\n",
              "    }\n",
              "\n",
              "    .dataframe tbody tr th {\n",
              "        vertical-align: top;\n",
              "    }\n",
              "\n",
              "    .dataframe thead th {\n",
              "        text-align: right;\n",
              "    }\n",
              "</style>\n",
              "<table border=\"1\" class=\"dataframe\">\n",
              "  <thead>\n",
              "    <tr style=\"text-align: right;\">\n",
              "      <th></th>\n",
              "      <th>Title</th>\n",
              "      <th>Fuel</th>\n",
              "      <th>Price</th>\n",
              "      <th>Engine</th>\n",
              "      <th>Location</th>\n",
              "      <th>Transmission</th>\n",
              "      <th>Range</th>\n",
              "      <th>Description</th>\n",
              "    </tr>\n",
              "  </thead>\n",
              "  <tbody>\n",
              "    <tr>\n",
              "      <th>0</th>\n",
              "      <td>toyota rush (2022)</td>\n",
              "      <td>Bensin</td>\n",
              "      <td>Rp 219.000.000</td>\n",
              "      <td>&gt;1.000 - 1.500 cc</td>\n",
              "      <td>Cilandak, Jakarta Selatan</td>\n",
              "      <td>Automatic</td>\n",
              "      <td>40.000-45.000 Km</td>\n",
              "      <td>Deskripsi \"Toyota Rush 1.5 S GR Sport Bensin-A...</td>\n",
              "    </tr>\n",
              "    <tr>\n",
              "      <th>1</th>\n",
              "      <td>daihatsu xenia (2021)</td>\n",
              "      <td>Bensin</td>\n",
              "      <td>Rp 168.000.000</td>\n",
              "      <td>&gt;1.000 - 1.500 cc</td>\n",
              "      <td>Cilandak, Jakarta Selatan</td>\n",
              "      <td>Automatic</td>\n",
              "      <td>85.000-90.000 Km</td>\n",
              "      <td>Deskripsi \"Daihatsu Xenia 1.3 . Khusus Harga K...</td>\n",
              "    </tr>\n",
              "    <tr>\n",
              "      <th>2</th>\n",
              "      <td>toyota raize (2023)</td>\n",
              "      <td>Bensin</td>\n",
              "      <td>Rp 212.000.000</td>\n",
              "      <td>&lt;1.000 cc</td>\n",
              "      <td>Cilandak, Jakarta Selatan</td>\n",
              "      <td>Automatic</td>\n",
              "      <td>35.000-40.000 Km</td>\n",
              "      <td>Deskripsi \"Toyota Raize 1.0 . Khusus Harga Kre...</td>\n",
              "    </tr>\n",
              "    <tr>\n",
              "      <th>3</th>\n",
              "      <td>honda brio satya (2019)</td>\n",
              "      <td>Bensin</td>\n",
              "      <td>Rp 149.000.000</td>\n",
              "      <td>&gt;1.000 - 1.500 cc</td>\n",
              "      <td>Cilandak, Jakarta Selatan</td>\n",
              "      <td>Automatic</td>\n",
              "      <td>65.000-70.000 Km</td>\n",
              "      <td>Deskripsi \"Honda Brio Satya 1.2 E Bensin-AT 20...</td>\n",
              "    </tr>\n",
              "    <tr>\n",
              "      <th>4</th>\n",
              "      <td>hyundai stargazer (2024)</td>\n",
              "      <td>Bensin</td>\n",
              "      <td>Rp 239.000.000</td>\n",
              "      <td>&gt;1.000 - 1.500 cc</td>\n",
              "      <td>Mampang Prapatan, Jakarta Selatan</td>\n",
              "      <td>Automatic</td>\n",
              "      <td>0-5.000 Km</td>\n",
              "      <td>Deskripsi [ B GENAP DZL ] Hyundai Stargazer Pr...</td>\n",
              "    </tr>\n",
              "  </tbody>\n",
              "</table>\n",
              "</div>"
            ],
            "text/plain": [
              "                      Title    Fuel           Price             Engine  \\\n",
              "0        toyota rush (2022)  Bensin  Rp 219.000.000  >1.000 - 1.500 cc   \n",
              "1     daihatsu xenia (2021)  Bensin  Rp 168.000.000  >1.000 - 1.500 cc   \n",
              "2       toyota raize (2023)  Bensin  Rp 212.000.000          <1.000 cc   \n",
              "3   honda brio satya (2019)  Bensin  Rp 149.000.000  >1.000 - 1.500 cc   \n",
              "4  hyundai stargazer (2024)  Bensin  Rp 239.000.000  >1.000 - 1.500 cc   \n",
              "\n",
              "                            Location Transmission             Range  \\\n",
              "0          Cilandak, Jakarta Selatan    Automatic  40.000-45.000 Km   \n",
              "1          Cilandak, Jakarta Selatan    Automatic  85.000-90.000 Km   \n",
              "2          Cilandak, Jakarta Selatan    Automatic  35.000-40.000 Km   \n",
              "3          Cilandak, Jakarta Selatan    Automatic  65.000-70.000 Km   \n",
              "4  Mampang Prapatan, Jakarta Selatan    Automatic        0-5.000 Km   \n",
              "\n",
              "                                         Description  \n",
              "0  Deskripsi \"Toyota Rush 1.5 S GR Sport Bensin-A...  \n",
              "1  Deskripsi \"Daihatsu Xenia 1.3 . Khusus Harga K...  \n",
              "2  Deskripsi \"Toyota Raize 1.0 . Khusus Harga Kre...  \n",
              "3  Deskripsi \"Honda Brio Satya 1.2 E Bensin-AT 20...  \n",
              "4  Deskripsi [ B GENAP DZL ] Hyundai Stargazer Pr...  "
            ]
          },
          "execution_count": 4,
          "metadata": {},
          "output_type": "execute_result"
        }
      ],
      "source": [
        "# Read data from csv\n",
        "data = pd.read_csv(\"olx_scrape.csv\")\n",
        "# Display the first few rows of the dataframa\n",
        "data.head()"
      ]
    },
    {
      "cell_type": "code",
      "execution_count": 5,
      "id": "tRL-yyHg8Jea",
      "metadata": {
        "colab": {
          "base_uri": "https://localhost:8080/"
        },
        "id": "tRL-yyHg8Jea",
        "outputId": "64f69446-e490-4339-9599-b2d788a3bfee"
      },
      "outputs": [
        {
          "data": {
            "text/plain": [
              "Index(['Title', 'Fuel', 'Price', 'Engine', 'Location', 'Transmission', 'Range',\n",
              "       'Description'],\n",
              "      dtype='object')"
            ]
          },
          "execution_count": 5,
          "metadata": {},
          "output_type": "execute_result"
        }
      ],
      "source": [
        "# See the columns in dataframe\n",
        "data.columns"
      ]
    },
    {
      "cell_type": "markdown",
      "id": "Jw1N68Jq8RRd",
      "metadata": {
        "id": "Jw1N68Jq8RRd"
      },
      "source": [
        "We can see that in dataframe has 8 column, which is :\n",
        "1. Title, title of the ads\n",
        "2. Fuel, Fuel type of the car can be contain Bensin(Petrol)/Diesel\n",
        "3. Price, price of the car in ads\n",
        "4. Engine, Range of cylinder engine capasity\n",
        "5. Location, Location of the ads\n",
        "6. Transmission, Transmission of the car (Matic/Manual)\n",
        "7. Range, range car millage in Kilometer\n",
        "8. Description of the car"
      ]
    },
    {
      "cell_type": "code",
      "execution_count": 6,
      "id": "frRJE1N5_5b1",
      "metadata": {
        "colab": {
          "base_uri": "https://localhost:8080/"
        },
        "id": "frRJE1N5_5b1",
        "outputId": "d62879b2-b4ef-4fc1-e032-a845f25cf88f"
      },
      "outputs": [
        {
          "name": "stdout",
          "output_type": "stream",
          "text": [
            "<class 'pandas.core.frame.DataFrame'>\n",
            "RangeIndex: 345 entries, 0 to 344\n",
            "Data columns (total 8 columns):\n",
            " #   Column        Non-Null Count  Dtype \n",
            "---  ------        --------------  ----- \n",
            " 0   Title         345 non-null    object\n",
            " 1   Fuel          345 non-null    object\n",
            " 2   Price         345 non-null    object\n",
            " 3   Engine        345 non-null    object\n",
            " 4   Location      345 non-null    object\n",
            " 5   Transmission  345 non-null    object\n",
            " 6   Range         345 non-null    object\n",
            " 7   Description   345 non-null    object\n",
            "dtypes: object(8)\n",
            "memory usage: 21.7+ KB\n"
          ]
        }
      ],
      "source": [
        "data.info()"
      ]
    },
    {
      "cell_type": "code",
      "execution_count": 7,
      "id": "PV7-lddPA-ZI",
      "metadata": {
        "colab": {
          "base_uri": "https://localhost:8080/",
          "height": 175
        },
        "id": "PV7-lddPA-ZI",
        "outputId": "5b66d734-6e64-4f27-8582-ae4997ac3aa2"
      },
      "outputs": [
        {
          "data": {
            "text/html": [
              "<div>\n",
              "<style scoped>\n",
              "    .dataframe tbody tr th:only-of-type {\n",
              "        vertical-align: middle;\n",
              "    }\n",
              "\n",
              "    .dataframe tbody tr th {\n",
              "        vertical-align: top;\n",
              "    }\n",
              "\n",
              "    .dataframe thead th {\n",
              "        text-align: right;\n",
              "    }\n",
              "</style>\n",
              "<table border=\"1\" class=\"dataframe\">\n",
              "  <thead>\n",
              "    <tr style=\"text-align: right;\">\n",
              "      <th></th>\n",
              "      <th>Title</th>\n",
              "      <th>Fuel</th>\n",
              "      <th>Price</th>\n",
              "      <th>Engine</th>\n",
              "      <th>Location</th>\n",
              "      <th>Transmission</th>\n",
              "      <th>Range</th>\n",
              "      <th>Description</th>\n",
              "    </tr>\n",
              "  </thead>\n",
              "  <tbody>\n",
              "    <tr>\n",
              "      <th>count</th>\n",
              "      <td>345</td>\n",
              "      <td>345</td>\n",
              "      <td>345</td>\n",
              "      <td>345</td>\n",
              "      <td>345</td>\n",
              "      <td>345</td>\n",
              "      <td>345</td>\n",
              "      <td>345</td>\n",
              "    </tr>\n",
              "    <tr>\n",
              "      <th>unique</th>\n",
              "      <td>270</td>\n",
              "      <td>5</td>\n",
              "      <td>218</td>\n",
              "      <td>8</td>\n",
              "      <td>12</td>\n",
              "      <td>4</td>\n",
              "      <td>45</td>\n",
              "      <td>329</td>\n",
              "    </tr>\n",
              "    <tr>\n",
              "      <th>top</th>\n",
              "      <td>toyota kijang innova (2023)</td>\n",
              "      <td>Bensin</td>\n",
              "      <td>Rp 250.000.000</td>\n",
              "      <td>&gt;1.000 - 1.500 cc</td>\n",
              "      <td>Cilandak, Jakarta Selatan</td>\n",
              "      <td>Automatic</td>\n",
              "      <td>20.000-25.000 Km</td>\n",
              "      <td>Deskripsi NISSAN LEAF EV HATCHBACK TWO TONE Ta...</td>\n",
              "    </tr>\n",
              "    <tr>\n",
              "      <th>freq</th>\n",
              "      <td>10</td>\n",
              "      <td>282</td>\n",
              "      <td>7</td>\n",
              "      <td>107</td>\n",
              "      <td>151</td>\n",
              "      <td>296</td>\n",
              "      <td>33</td>\n",
              "      <td>3</td>\n",
              "    </tr>\n",
              "  </tbody>\n",
              "</table>\n",
              "</div>"
            ],
            "text/plain": [
              "                              Title    Fuel           Price  \\\n",
              "count                           345     345             345   \n",
              "unique                          270       5             218   \n",
              "top     toyota kijang innova (2023)  Bensin  Rp 250.000.000   \n",
              "freq                             10     282               7   \n",
              "\n",
              "                   Engine                   Location Transmission  \\\n",
              "count                 345                        345          345   \n",
              "unique                  8                         12            4   \n",
              "top     >1.000 - 1.500 cc  Cilandak, Jakarta Selatan    Automatic   \n",
              "freq                  107                        151          296   \n",
              "\n",
              "                   Range                                        Description  \n",
              "count                345                                                345  \n",
              "unique                45                                                329  \n",
              "top     20.000-25.000 Km  Deskripsi NISSAN LEAF EV HATCHBACK TWO TONE Ta...  \n",
              "freq                  33                                                  3  "
            ]
          },
          "execution_count": 7,
          "metadata": {},
          "output_type": "execute_result"
        }
      ],
      "source": [
        "data.describe()"
      ]
    },
    {
      "cell_type": "markdown",
      "id": "tcsCWeESGW2v",
      "metadata": {
        "id": "tcsCWeESGW2v"
      },
      "source": [
        "## 3.2 Data Transforming\n",
        "There is few data that we can transform from one column to another new column\n"
      ]
    },
    {
      "cell_type": "code",
      "execution_count": 8,
      "id": "4mLrxQE2GOki",
      "metadata": {
        "colab": {
          "base_uri": "https://localhost:8080/",
          "height": 206
        },
        "id": "4mLrxQE2GOki",
        "outputId": "0cd27011-39a6-4fbe-f520-ec064912a071"
      },
      "outputs": [
        {
          "data": {
            "text/html": [
              "<div>\n",
              "<style scoped>\n",
              "    .dataframe tbody tr th:only-of-type {\n",
              "        vertical-align: middle;\n",
              "    }\n",
              "\n",
              "    .dataframe tbody tr th {\n",
              "        vertical-align: top;\n",
              "    }\n",
              "\n",
              "    .dataframe thead th {\n",
              "        text-align: right;\n",
              "    }\n",
              "</style>\n",
              "<table border=\"1\" class=\"dataframe\">\n",
              "  <thead>\n",
              "    <tr style=\"text-align: right;\">\n",
              "      <th></th>\n",
              "      <th>Title</th>\n",
              "      <th>Fuel</th>\n",
              "      <th>Price</th>\n",
              "      <th>Engine</th>\n",
              "      <th>Location</th>\n",
              "      <th>Transmission</th>\n",
              "      <th>Range</th>\n",
              "      <th>Description</th>\n",
              "      <th>Year</th>\n",
              "    </tr>\n",
              "  </thead>\n",
              "  <tbody>\n",
              "    <tr>\n",
              "      <th>0</th>\n",
              "      <td>toyota rush</td>\n",
              "      <td>Bensin</td>\n",
              "      <td>Rp 219.000.000</td>\n",
              "      <td>&gt;1.000 - 1.500 cc</td>\n",
              "      <td>Cilandak, Jakarta Selatan</td>\n",
              "      <td>Automatic</td>\n",
              "      <td>40.000-45.000 Km</td>\n",
              "      <td>Deskripsi \"Toyota Rush 1.5 S GR Sport Bensin-A...</td>\n",
              "      <td>2022</td>\n",
              "    </tr>\n",
              "    <tr>\n",
              "      <th>1</th>\n",
              "      <td>daihatsu xenia</td>\n",
              "      <td>Bensin</td>\n",
              "      <td>Rp 168.000.000</td>\n",
              "      <td>&gt;1.000 - 1.500 cc</td>\n",
              "      <td>Cilandak, Jakarta Selatan</td>\n",
              "      <td>Automatic</td>\n",
              "      <td>85.000-90.000 Km</td>\n",
              "      <td>Deskripsi \"Daihatsu Xenia 1.3 . Khusus Harga K...</td>\n",
              "      <td>2021</td>\n",
              "    </tr>\n",
              "    <tr>\n",
              "      <th>2</th>\n",
              "      <td>toyota raize</td>\n",
              "      <td>Bensin</td>\n",
              "      <td>Rp 212.000.000</td>\n",
              "      <td>&lt;1.000 cc</td>\n",
              "      <td>Cilandak, Jakarta Selatan</td>\n",
              "      <td>Automatic</td>\n",
              "      <td>35.000-40.000 Km</td>\n",
              "      <td>Deskripsi \"Toyota Raize 1.0 . Khusus Harga Kre...</td>\n",
              "      <td>2023</td>\n",
              "    </tr>\n",
              "    <tr>\n",
              "      <th>3</th>\n",
              "      <td>honda brio satya</td>\n",
              "      <td>Bensin</td>\n",
              "      <td>Rp 149.000.000</td>\n",
              "      <td>&gt;1.000 - 1.500 cc</td>\n",
              "      <td>Cilandak, Jakarta Selatan</td>\n",
              "      <td>Automatic</td>\n",
              "      <td>65.000-70.000 Km</td>\n",
              "      <td>Deskripsi \"Honda Brio Satya 1.2 E Bensin-AT 20...</td>\n",
              "      <td>2019</td>\n",
              "    </tr>\n",
              "    <tr>\n",
              "      <th>4</th>\n",
              "      <td>hyundai stargazer</td>\n",
              "      <td>Bensin</td>\n",
              "      <td>Rp 239.000.000</td>\n",
              "      <td>&gt;1.000 - 1.500 cc</td>\n",
              "      <td>Mampang Prapatan, Jakarta Selatan</td>\n",
              "      <td>Automatic</td>\n",
              "      <td>0-5.000 Km</td>\n",
              "      <td>Deskripsi [ B GENAP DZL ] Hyundai Stargazer Pr...</td>\n",
              "      <td>2024</td>\n",
              "    </tr>\n",
              "  </tbody>\n",
              "</table>\n",
              "</div>"
            ],
            "text/plain": [
              "               Title    Fuel           Price             Engine  \\\n",
              "0        toyota rush  Bensin  Rp 219.000.000  >1.000 - 1.500 cc   \n",
              "1     daihatsu xenia  Bensin  Rp 168.000.000  >1.000 - 1.500 cc   \n",
              "2       toyota raize  Bensin  Rp 212.000.000          <1.000 cc   \n",
              "3   honda brio satya  Bensin  Rp 149.000.000  >1.000 - 1.500 cc   \n",
              "4  hyundai stargazer  Bensin  Rp 239.000.000  >1.000 - 1.500 cc   \n",
              "\n",
              "                            Location Transmission             Range  \\\n",
              "0          Cilandak, Jakarta Selatan    Automatic  40.000-45.000 Km   \n",
              "1          Cilandak, Jakarta Selatan    Automatic  85.000-90.000 Km   \n",
              "2          Cilandak, Jakarta Selatan    Automatic  35.000-40.000 Km   \n",
              "3          Cilandak, Jakarta Selatan    Automatic  65.000-70.000 Km   \n",
              "4  Mampang Prapatan, Jakarta Selatan    Automatic        0-5.000 Km   \n",
              "\n",
              "                                         Description  Year  \n",
              "0  Deskripsi \"Toyota Rush 1.5 S GR Sport Bensin-A...  2022  \n",
              "1  Deskripsi \"Daihatsu Xenia 1.3 . Khusus Harga K...  2021  \n",
              "2  Deskripsi \"Toyota Raize 1.0 . Khusus Harga Kre...  2023  \n",
              "3  Deskripsi \"Honda Brio Satya 1.2 E Bensin-AT 20...  2019  \n",
              "4  Deskripsi [ B GENAP DZL ] Hyundai Stargazer Pr...  2024  "
            ]
          },
          "execution_count": 8,
          "metadata": {},
          "output_type": "execute_result"
        }
      ],
      "source": [
        "# Create Year column that take year from title column\n",
        "data['Year'] = data['Title'].str.extract(r'(\\b20\\d{2}\\b|\\b19\\d{2}\\b)')\n",
        "# Delete year from title column\n",
        "data['Title'] = data['Title'].str.replace(\n",
        "    r'\\(?\\b(19\\d{2}|20\\d{2})\\b\\)?', '', regex=True\n",
        ").str.replace(r'\\s+', ' ', regex=True).str.strip()\n",
        "\n",
        "data.head()"
      ]
    },
    {
      "cell_type": "code",
      "execution_count": 9,
      "id": "FgnV4ZFpGVv8",
      "metadata": {
        "colab": {
          "base_uri": "https://localhost:8080/",
          "height": 206
        },
        "id": "FgnV4ZFpGVv8",
        "outputId": "0e1e6eaf-a3ff-47db-90d5-3a1c72d4e801"
      },
      "outputs": [
        {
          "data": {
            "text/html": [
              "<div>\n",
              "<style scoped>\n",
              "    .dataframe tbody tr th:only-of-type {\n",
              "        vertical-align: middle;\n",
              "    }\n",
              "\n",
              "    .dataframe tbody tr th {\n",
              "        vertical-align: top;\n",
              "    }\n",
              "\n",
              "    .dataframe thead th {\n",
              "        text-align: right;\n",
              "    }\n",
              "</style>\n",
              "<table border=\"1\" class=\"dataframe\">\n",
              "  <thead>\n",
              "    <tr style=\"text-align: right;\">\n",
              "      <th></th>\n",
              "      <th>Title</th>\n",
              "      <th>Fuel</th>\n",
              "      <th>Price</th>\n",
              "      <th>Engine</th>\n",
              "      <th>Location</th>\n",
              "      <th>Transmission</th>\n",
              "      <th>Range</th>\n",
              "      <th>Description</th>\n",
              "      <th>Year</th>\n",
              "      <th>Brand</th>\n",
              "    </tr>\n",
              "  </thead>\n",
              "  <tbody>\n",
              "    <tr>\n",
              "      <th>0</th>\n",
              "      <td>rush</td>\n",
              "      <td>Bensin</td>\n",
              "      <td>Rp 219.000.000</td>\n",
              "      <td>&gt;1.000 - 1.500 cc</td>\n",
              "      <td>Cilandak, Jakarta Selatan</td>\n",
              "      <td>Automatic</td>\n",
              "      <td>40.000-45.000 Km</td>\n",
              "      <td>Deskripsi \"Toyota Rush 1.5 S GR Sport Bensin-A...</td>\n",
              "      <td>2022</td>\n",
              "      <td>toyota</td>\n",
              "    </tr>\n",
              "    <tr>\n",
              "      <th>1</th>\n",
              "      <td>xenia</td>\n",
              "      <td>Bensin</td>\n",
              "      <td>Rp 168.000.000</td>\n",
              "      <td>&gt;1.000 - 1.500 cc</td>\n",
              "      <td>Cilandak, Jakarta Selatan</td>\n",
              "      <td>Automatic</td>\n",
              "      <td>85.000-90.000 Km</td>\n",
              "      <td>Deskripsi \"Daihatsu Xenia 1.3 . Khusus Harga K...</td>\n",
              "      <td>2021</td>\n",
              "      <td>daihatsu</td>\n",
              "    </tr>\n",
              "    <tr>\n",
              "      <th>2</th>\n",
              "      <td>raize</td>\n",
              "      <td>Bensin</td>\n",
              "      <td>Rp 212.000.000</td>\n",
              "      <td>&lt;1.000 cc</td>\n",
              "      <td>Cilandak, Jakarta Selatan</td>\n",
              "      <td>Automatic</td>\n",
              "      <td>35.000-40.000 Km</td>\n",
              "      <td>Deskripsi \"Toyota Raize 1.0 . Khusus Harga Kre...</td>\n",
              "      <td>2023</td>\n",
              "      <td>toyota</td>\n",
              "    </tr>\n",
              "    <tr>\n",
              "      <th>3</th>\n",
              "      <td>brio satya</td>\n",
              "      <td>Bensin</td>\n",
              "      <td>Rp 149.000.000</td>\n",
              "      <td>&gt;1.000 - 1.500 cc</td>\n",
              "      <td>Cilandak, Jakarta Selatan</td>\n",
              "      <td>Automatic</td>\n",
              "      <td>65.000-70.000 Km</td>\n",
              "      <td>Deskripsi \"Honda Brio Satya 1.2 E Bensin-AT 20...</td>\n",
              "      <td>2019</td>\n",
              "      <td>honda</td>\n",
              "    </tr>\n",
              "    <tr>\n",
              "      <th>4</th>\n",
              "      <td>stargazer</td>\n",
              "      <td>Bensin</td>\n",
              "      <td>Rp 239.000.000</td>\n",
              "      <td>&gt;1.000 - 1.500 cc</td>\n",
              "      <td>Mampang Prapatan, Jakarta Selatan</td>\n",
              "      <td>Automatic</td>\n",
              "      <td>0-5.000 Km</td>\n",
              "      <td>Deskripsi [ B GENAP DZL ] Hyundai Stargazer Pr...</td>\n",
              "      <td>2024</td>\n",
              "      <td>hyundai</td>\n",
              "    </tr>\n",
              "  </tbody>\n",
              "</table>\n",
              "</div>"
            ],
            "text/plain": [
              "        Title    Fuel           Price             Engine  \\\n",
              "0        rush  Bensin  Rp 219.000.000  >1.000 - 1.500 cc   \n",
              "1       xenia  Bensin  Rp 168.000.000  >1.000 - 1.500 cc   \n",
              "2       raize  Bensin  Rp 212.000.000          <1.000 cc   \n",
              "3  brio satya  Bensin  Rp 149.000.000  >1.000 - 1.500 cc   \n",
              "4   stargazer  Bensin  Rp 239.000.000  >1.000 - 1.500 cc   \n",
              "\n",
              "                            Location Transmission             Range  \\\n",
              "0          Cilandak, Jakarta Selatan    Automatic  40.000-45.000 Km   \n",
              "1          Cilandak, Jakarta Selatan    Automatic  85.000-90.000 Km   \n",
              "2          Cilandak, Jakarta Selatan    Automatic  35.000-40.000 Km   \n",
              "3          Cilandak, Jakarta Selatan    Automatic  65.000-70.000 Km   \n",
              "4  Mampang Prapatan, Jakarta Selatan    Automatic        0-5.000 Km   \n",
              "\n",
              "                                         Description  Year     Brand  \n",
              "0  Deskripsi \"Toyota Rush 1.5 S GR Sport Bensin-A...  2022    toyota  \n",
              "1  Deskripsi \"Daihatsu Xenia 1.3 . Khusus Harga K...  2021  daihatsu  \n",
              "2  Deskripsi \"Toyota Raize 1.0 . Khusus Harga Kre...  2023    toyota  \n",
              "3  Deskripsi \"Honda Brio Satya 1.2 E Bensin-AT 20...  2019     honda  \n",
              "4  Deskripsi [ B GENAP DZL ] Hyundai Stargazer Pr...  2024   hyundai  "
            ]
          },
          "execution_count": 9,
          "metadata": {},
          "output_type": "execute_result"
        }
      ],
      "source": [
        "# Create Brand Column from the title\n",
        "# take the brand name from the title column\n",
        "data['Brand'] = data['Title'].str.split().str[0]\n",
        "# cut the brand name from the title column\n",
        "data['Title'] = data['Title'].str.replace(r'^\\w+\\s+', '', regex=True)\n",
        "data.head()"
      ]
    },
    {
      "cell_type": "code",
      "execution_count": 10,
      "id": "Bc4nMhFjHHyK",
      "metadata": {
        "colab": {
          "base_uri": "https://localhost:8080/",
          "height": 206
        },
        "id": "Bc4nMhFjHHyK",
        "outputId": "9d72eed5-6f11-4c0d-947e-17fb04532359"
      },
      "outputs": [
        {
          "data": {
            "text/html": [
              "<div>\n",
              "<style scoped>\n",
              "    .dataframe tbody tr th:only-of-type {\n",
              "        vertical-align: middle;\n",
              "    }\n",
              "\n",
              "    .dataframe tbody tr th {\n",
              "        vertical-align: top;\n",
              "    }\n",
              "\n",
              "    .dataframe thead th {\n",
              "        text-align: right;\n",
              "    }\n",
              "</style>\n",
              "<table border=\"1\" class=\"dataframe\">\n",
              "  <thead>\n",
              "    <tr style=\"text-align: right;\">\n",
              "      <th></th>\n",
              "      <th>Type</th>\n",
              "      <th>Fuel</th>\n",
              "      <th>Price</th>\n",
              "      <th>Engine</th>\n",
              "      <th>Location</th>\n",
              "      <th>Transmission</th>\n",
              "      <th>Range</th>\n",
              "      <th>Description</th>\n",
              "      <th>Year</th>\n",
              "      <th>Brand</th>\n",
              "    </tr>\n",
              "  </thead>\n",
              "  <tbody>\n",
              "    <tr>\n",
              "      <th>0</th>\n",
              "      <td>rush</td>\n",
              "      <td>Bensin</td>\n",
              "      <td>Rp 219.000.000</td>\n",
              "      <td>&gt;1.000 - 1.500 cc</td>\n",
              "      <td>Cilandak, Jakarta Selatan</td>\n",
              "      <td>Automatic</td>\n",
              "      <td>40.000-45.000 Km</td>\n",
              "      <td>Deskripsi \"Toyota Rush 1.5 S GR Sport Bensin-A...</td>\n",
              "      <td>2022</td>\n",
              "      <td>toyota</td>\n",
              "    </tr>\n",
              "    <tr>\n",
              "      <th>1</th>\n",
              "      <td>xenia</td>\n",
              "      <td>Bensin</td>\n",
              "      <td>Rp 168.000.000</td>\n",
              "      <td>&gt;1.000 - 1.500 cc</td>\n",
              "      <td>Cilandak, Jakarta Selatan</td>\n",
              "      <td>Automatic</td>\n",
              "      <td>85.000-90.000 Km</td>\n",
              "      <td>Deskripsi \"Daihatsu Xenia 1.3 . Khusus Harga K...</td>\n",
              "      <td>2021</td>\n",
              "      <td>daihatsu</td>\n",
              "    </tr>\n",
              "    <tr>\n",
              "      <th>2</th>\n",
              "      <td>raize</td>\n",
              "      <td>Bensin</td>\n",
              "      <td>Rp 212.000.000</td>\n",
              "      <td>&lt;1.000 cc</td>\n",
              "      <td>Cilandak, Jakarta Selatan</td>\n",
              "      <td>Automatic</td>\n",
              "      <td>35.000-40.000 Km</td>\n",
              "      <td>Deskripsi \"Toyota Raize 1.0 . Khusus Harga Kre...</td>\n",
              "      <td>2023</td>\n",
              "      <td>toyota</td>\n",
              "    </tr>\n",
              "    <tr>\n",
              "      <th>3</th>\n",
              "      <td>brio satya</td>\n",
              "      <td>Bensin</td>\n",
              "      <td>Rp 149.000.000</td>\n",
              "      <td>&gt;1.000 - 1.500 cc</td>\n",
              "      <td>Cilandak, Jakarta Selatan</td>\n",
              "      <td>Automatic</td>\n",
              "      <td>65.000-70.000 Km</td>\n",
              "      <td>Deskripsi \"Honda Brio Satya 1.2 E Bensin-AT 20...</td>\n",
              "      <td>2019</td>\n",
              "      <td>honda</td>\n",
              "    </tr>\n",
              "    <tr>\n",
              "      <th>4</th>\n",
              "      <td>stargazer</td>\n",
              "      <td>Bensin</td>\n",
              "      <td>Rp 239.000.000</td>\n",
              "      <td>&gt;1.000 - 1.500 cc</td>\n",
              "      <td>Mampang Prapatan, Jakarta Selatan</td>\n",
              "      <td>Automatic</td>\n",
              "      <td>0-5.000 Km</td>\n",
              "      <td>Deskripsi [ B GENAP DZL ] Hyundai Stargazer Pr...</td>\n",
              "      <td>2024</td>\n",
              "      <td>hyundai</td>\n",
              "    </tr>\n",
              "  </tbody>\n",
              "</table>\n",
              "</div>"
            ],
            "text/plain": [
              "         Type    Fuel           Price             Engine  \\\n",
              "0        rush  Bensin  Rp 219.000.000  >1.000 - 1.500 cc   \n",
              "1       xenia  Bensin  Rp 168.000.000  >1.000 - 1.500 cc   \n",
              "2       raize  Bensin  Rp 212.000.000          <1.000 cc   \n",
              "3  brio satya  Bensin  Rp 149.000.000  >1.000 - 1.500 cc   \n",
              "4   stargazer  Bensin  Rp 239.000.000  >1.000 - 1.500 cc   \n",
              "\n",
              "                            Location Transmission             Range  \\\n",
              "0          Cilandak, Jakarta Selatan    Automatic  40.000-45.000 Km   \n",
              "1          Cilandak, Jakarta Selatan    Automatic  85.000-90.000 Km   \n",
              "2          Cilandak, Jakarta Selatan    Automatic  35.000-40.000 Km   \n",
              "3          Cilandak, Jakarta Selatan    Automatic  65.000-70.000 Km   \n",
              "4  Mampang Prapatan, Jakarta Selatan    Automatic        0-5.000 Km   \n",
              "\n",
              "                                         Description  Year     Brand  \n",
              "0  Deskripsi \"Toyota Rush 1.5 S GR Sport Bensin-A...  2022    toyota  \n",
              "1  Deskripsi \"Daihatsu Xenia 1.3 . Khusus Harga K...  2021  daihatsu  \n",
              "2  Deskripsi \"Toyota Raize 1.0 . Khusus Harga Kre...  2023    toyota  \n",
              "3  Deskripsi \"Honda Brio Satya 1.2 E Bensin-AT 20...  2019     honda  \n",
              "4  Deskripsi [ B GENAP DZL ] Hyundai Stargazer Pr...  2024   hyundai  "
            ]
          },
          "execution_count": 10,
          "metadata": {},
          "output_type": "execute_result"
        }
      ],
      "source": [
        "# change column name from \"title\" to \"type\"\n",
        "data.rename(columns={'Title': 'Type'}, inplace=True)\n",
        "data.head()"
      ]
    },
    {
      "cell_type": "code",
      "execution_count": 11,
      "id": "qbBBgTWRHUY5",
      "metadata": {
        "colab": {
          "base_uri": "https://localhost:8080/",
          "height": 206
        },
        "id": "qbBBgTWRHUY5",
        "outputId": "beabf086-512a-4ff6-dd6f-787720c9fc18"
      },
      "outputs": [
        {
          "data": {
            "text/html": [
              "<div>\n",
              "<style scoped>\n",
              "    .dataframe tbody tr th:only-of-type {\n",
              "        vertical-align: middle;\n",
              "    }\n",
              "\n",
              "    .dataframe tbody tr th {\n",
              "        vertical-align: top;\n",
              "    }\n",
              "\n",
              "    .dataframe thead th {\n",
              "        text-align: right;\n",
              "    }\n",
              "</style>\n",
              "<table border=\"1\" class=\"dataframe\">\n",
              "  <thead>\n",
              "    <tr style=\"text-align: right;\">\n",
              "      <th></th>\n",
              "      <th>Type</th>\n",
              "      <th>Fuel</th>\n",
              "      <th>Price</th>\n",
              "      <th>Engine</th>\n",
              "      <th>Location</th>\n",
              "      <th>Transmission</th>\n",
              "      <th>Range</th>\n",
              "      <th>Description</th>\n",
              "      <th>Year</th>\n",
              "      <th>Brand</th>\n",
              "    </tr>\n",
              "  </thead>\n",
              "  <tbody>\n",
              "    <tr>\n",
              "      <th>0</th>\n",
              "      <td>rush</td>\n",
              "      <td>Bensin</td>\n",
              "      <td>219000000</td>\n",
              "      <td>&gt;1.000 - 1.500 cc</td>\n",
              "      <td>Cilandak, Jakarta Selatan</td>\n",
              "      <td>Automatic</td>\n",
              "      <td>40.000-45.000 Km</td>\n",
              "      <td>Deskripsi \"Toyota Rush 1.5 S GR Sport Bensin-A...</td>\n",
              "      <td>2022</td>\n",
              "      <td>toyota</td>\n",
              "    </tr>\n",
              "    <tr>\n",
              "      <th>1</th>\n",
              "      <td>xenia</td>\n",
              "      <td>Bensin</td>\n",
              "      <td>168000000</td>\n",
              "      <td>&gt;1.000 - 1.500 cc</td>\n",
              "      <td>Cilandak, Jakarta Selatan</td>\n",
              "      <td>Automatic</td>\n",
              "      <td>85.000-90.000 Km</td>\n",
              "      <td>Deskripsi \"Daihatsu Xenia 1.3 . Khusus Harga K...</td>\n",
              "      <td>2021</td>\n",
              "      <td>daihatsu</td>\n",
              "    </tr>\n",
              "    <tr>\n",
              "      <th>2</th>\n",
              "      <td>raize</td>\n",
              "      <td>Bensin</td>\n",
              "      <td>212000000</td>\n",
              "      <td>&lt;1.000 cc</td>\n",
              "      <td>Cilandak, Jakarta Selatan</td>\n",
              "      <td>Automatic</td>\n",
              "      <td>35.000-40.000 Km</td>\n",
              "      <td>Deskripsi \"Toyota Raize 1.0 . Khusus Harga Kre...</td>\n",
              "      <td>2023</td>\n",
              "      <td>toyota</td>\n",
              "    </tr>\n",
              "    <tr>\n",
              "      <th>3</th>\n",
              "      <td>brio satya</td>\n",
              "      <td>Bensin</td>\n",
              "      <td>149000000</td>\n",
              "      <td>&gt;1.000 - 1.500 cc</td>\n",
              "      <td>Cilandak, Jakarta Selatan</td>\n",
              "      <td>Automatic</td>\n",
              "      <td>65.000-70.000 Km</td>\n",
              "      <td>Deskripsi \"Honda Brio Satya 1.2 E Bensin-AT 20...</td>\n",
              "      <td>2019</td>\n",
              "      <td>honda</td>\n",
              "    </tr>\n",
              "    <tr>\n",
              "      <th>4</th>\n",
              "      <td>stargazer</td>\n",
              "      <td>Bensin</td>\n",
              "      <td>239000000</td>\n",
              "      <td>&gt;1.000 - 1.500 cc</td>\n",
              "      <td>Mampang Prapatan, Jakarta Selatan</td>\n",
              "      <td>Automatic</td>\n",
              "      <td>0-5.000 Km</td>\n",
              "      <td>Deskripsi [ B GENAP DZL ] Hyundai Stargazer Pr...</td>\n",
              "      <td>2024</td>\n",
              "      <td>hyundai</td>\n",
              "    </tr>\n",
              "  </tbody>\n",
              "</table>\n",
              "</div>"
            ],
            "text/plain": [
              "         Type    Fuel      Price             Engine  \\\n",
              "0        rush  Bensin  219000000  >1.000 - 1.500 cc   \n",
              "1       xenia  Bensin  168000000  >1.000 - 1.500 cc   \n",
              "2       raize  Bensin  212000000          <1.000 cc   \n",
              "3  brio satya  Bensin  149000000  >1.000 - 1.500 cc   \n",
              "4   stargazer  Bensin  239000000  >1.000 - 1.500 cc   \n",
              "\n",
              "                            Location Transmission             Range  \\\n",
              "0          Cilandak, Jakarta Selatan    Automatic  40.000-45.000 Km   \n",
              "1          Cilandak, Jakarta Selatan    Automatic  85.000-90.000 Km   \n",
              "2          Cilandak, Jakarta Selatan    Automatic  35.000-40.000 Km   \n",
              "3          Cilandak, Jakarta Selatan    Automatic  65.000-70.000 Km   \n",
              "4  Mampang Prapatan, Jakarta Selatan    Automatic        0-5.000 Km   \n",
              "\n",
              "                                         Description  Year     Brand  \n",
              "0  Deskripsi \"Toyota Rush 1.5 S GR Sport Bensin-A...  2022    toyota  \n",
              "1  Deskripsi \"Daihatsu Xenia 1.3 . Khusus Harga K...  2021  daihatsu  \n",
              "2  Deskripsi \"Toyota Raize 1.0 . Khusus Harga Kre...  2023    toyota  \n",
              "3  Deskripsi \"Honda Brio Satya 1.2 E Bensin-AT 20...  2019     honda  \n",
              "4  Deskripsi [ B GENAP DZL ] Hyundai Stargazer Pr...  2024   hyundai  "
            ]
          },
          "execution_count": 11,
          "metadata": {},
          "output_type": "execute_result"
        }
      ],
      "source": [
        "# Delete \"Rp\" from price and change type tu integer\n",
        "data['Price'] = (\n",
        "    data['Price']\n",
        "    .str.replace(r'\\D', '', regex=True)\n",
        "    .astype('Int64')  # biar bisa menampung lebih besar daripada int default\n",
        ")\n",
        "data.head()"
      ]
    },
    {
      "cell_type": "code",
      "execution_count": 12,
      "id": "jaLBTrMDuid9",
      "metadata": {
        "colab": {
          "base_uri": "https://localhost:8080/"
        },
        "id": "jaLBTrMDuid9",
        "outputId": "ada2c3f9-d6e6-4aa7-965c-aa4b59d3f0a4"
      },
      "outputs": [
        {
          "name": "stdout",
          "output_type": "stream",
          "text": [
            "<class 'pandas.core.frame.DataFrame'>\n",
            "RangeIndex: 345 entries, 0 to 344\n",
            "Data columns (total 10 columns):\n",
            " #   Column        Non-Null Count  Dtype \n",
            "---  ------        --------------  ----- \n",
            " 0   Type          345 non-null    object\n",
            " 1   Fuel          345 non-null    object\n",
            " 2   Price         345 non-null    Int64 \n",
            " 3   Engine        345 non-null    object\n",
            " 4   Location      345 non-null    object\n",
            " 5   Transmission  345 non-null    object\n",
            " 6   Range         345 non-null    object\n",
            " 7   Description   345 non-null    object\n",
            " 8   Year          345 non-null    object\n",
            " 9   Brand         345 non-null    object\n",
            "dtypes: Int64(1), object(9)\n",
            "memory usage: 27.4+ KB\n"
          ]
        }
      ],
      "source": [
        "data.info()"
      ]
    },
    {
      "cell_type": "code",
      "execution_count": 13,
      "id": "9Mj0o10-uoZg",
      "metadata": {
        "id": "9Mj0o10-uoZg"
      },
      "outputs": [],
      "source": [
        "# Change year column type to integer\n",
        "data['Year'] = data['Year'].astype('Int64')"
      ]
    },
    {
      "cell_type": "markdown",
      "id": "XXc9uI0sAFRR",
      "metadata": {
        "id": "XXc9uI0sAFRR"
      },
      "source": [
        "# 4. Exploratory Data Analysis"
      ]
    },
    {
      "cell_type": "markdown",
      "id": "Zns33YbCH5ti",
      "metadata": {
        "id": "Zns33YbCH5ti"
      },
      "source": [
        "## 4.1 what brand is the most in the data"
      ]
    },
    {
      "cell_type": "code",
      "execution_count": 14,
      "id": "423cPfQAAQVd",
      "metadata": {
        "colab": {
          "base_uri": "https://localhost:8080/",
          "height": 722
        },
        "id": "423cPfQAAQVd",
        "outputId": "4eff9d7f-1776-49d4-bbc2-768d42bdcbd3"
      },
      "outputs": [
        {
          "name": "stderr",
          "output_type": "stream",
          "text": [
            "C:\\Users\\muham\\AppData\\Local\\Temp\\ipykernel_22800\\2274974055.py:4: FutureWarning: \n",
            "\n",
            "Passing `palette` without assigning `hue` is deprecated and will be removed in v0.14.0. Assign the `x` variable to `hue` and set `legend=False` for the same effect.\n",
            "\n",
            "  sns.barplot(x=brand_counts.index, y=brand_counts.values, palette='viridis')\n"
          ]
        },
        {
          "data": {
            "image/png": "[encoded data removed]",
            "text/plain": [
              "<Figure size 1000x600 with 1 Axes>"
            ]
          },
          "metadata": {},
          "output_type": "display_data"
        }
      ],
      "source": [
        "# create bar chart to know what brand is the most in data top 10\n",
        "plt.figure(figsize=(10, 6))\n",
        "brand_counts = data['Brand'].value_counts().head(10)\n",
        "sns.barplot(x=brand_counts.index, y=brand_counts.values, palette='viridis')\n",
        "plt.title('Number of Car Brand in data')\n",
        "plt.xlabel('Brand')\n",
        "plt.ylabel('Number of Car')\n",
        "plt.xticks(rotation=45)\n",
        "plt.show()"
      ]
    },
    {
      "cell_type": "markdown",
      "id": "HU66Pr9JxPXb",
      "metadata": {
        "id": "HU66Pr9JxPXb"
      },
      "source": [
        "### **1. Car Brands Distribution**\n",
        "\n",
        "* **Toyota** overwhelmingly dominates the dataset with more than **110 cars**, far ahead of other brands.\n",
        "* The next most common brands are **Honda, Mercedes-Benz, and Mitsubishi** (around 30 cars each).\n",
        "* Other brands such as Mazda, Lexus, BMW, Nissan, Suzuki, and Daihatsu appear less frequently (<20 cars each).\n",
        "* This confirms Toyota’s strong dominance in the Indonesian used car market.\n"
      ]
    },
    {
      "cell_type": "markdown",
      "id": "8QhdW3AnIY3g",
      "metadata": {
        "id": "8QhdW3AnIY3g"
      },
      "source": [
        "## 4.2 What type is the most in the data"
      ]
    },
    {
      "cell_type": "code",
      "execution_count": 15,
      "id": "OV1fN1pLIc6Z",
      "metadata": {
        "colab": {
          "base_uri": "https://localhost:8080/",
          "height": 713
        },
        "id": "OV1fN1pLIc6Z",
        "outputId": "4000b09e-810c-445b-8463-1adbc38686ad"
      },
      "outputs": [
        {
          "name": "stderr",
          "output_type": "stream",
          "text": [
            "C:\\Users\\muham\\AppData\\Local\\Temp\\ipykernel_22800\\1101486408.py:4: FutureWarning: \n",
            "\n",
            "Passing `palette` without assigning `hue` is deprecated and will be removed in v0.14.0. Assign the `x` variable to `hue` and set `legend=False` for the same effect.\n",
            "\n",
            "  sns.barplot(x=brand_counts.index, y=brand_counts.values, palette='viridis')\n"
          ]
        },
        {
          "data": {
            "image/png": "[encoded data removed]",
            "text/plain": [
              "<Figure size 1000x600 with 1 Axes>"
            ]
          },
          "metadata": {},
          "output_type": "display_data"
        }
      ],
      "source": [
        "# create bar chart to know what type is the most in data top 10\n",
        "plt.figure(figsize=(10, 6))\n",
        "brand_counts = data['Type'].value_counts().head(10)\n",
        "sns.barplot(x=brand_counts.index, y=brand_counts.values, palette='viridis')\n",
        "plt.title('Top 10 type of the car in data')\n",
        "plt.xlabel('Type')\n",
        "plt.ylabel('Number of Car')\n",
        "plt.xticks(rotation=45)\n",
        "plt.show()"
      ]
    },
    {
      "cell_type": "markdown",
      "id": "xOMRfLPwxUKX",
      "metadata": {
        "id": "xOMRfLPwxUKX"
      },
      "source": [
        "### **2. Top Car Types**\n",
        "\n",
        "* The most common car types are mostly Toyota models:\n",
        "\n",
        "  * **Kijang Innova (17 cars)**, **Alphard (14 cars)**, **Avanza (13 cars)**, and **Fortuner (11 cars)**.\n",
        "* Other popular models include **Xpander (10)**, **CR-V (10)**, **CX-5 (9)**, **Land Cruiser (7)**, **Vellfire (7)**, and **Voxy (7)**.\n",
        "* Toyota clearly dominates not only in brand but also across multiple popular models."
      ]
    },
    {
      "cell_type": "markdown",
      "id": "mO7YqzECIna2",
      "metadata": {
        "id": "mO7YqzECIna2"
      },
      "source": [
        "## 4.3 Percentage of the transmission"
      ]
    },
    {
      "cell_type": "code",
      "execution_count": 16,
      "id": "gynHdf4eIxWl",
      "metadata": {
        "colab": {
          "base_uri": "https://localhost:8080/",
          "height": 675
        },
        "id": "gynHdf4eIxWl",
        "outputId": "3de025fd-7358-470b-e65e-2a6c07f4a5e5"
      },
      "outputs": [
        {
          "data": {
            "image/png": "[encoded data removed]",
            "text/plain": [
              "<Figure size 800x800 with 1 Axes>"
            ]
          },
          "metadata": {},
          "output_type": "display_data"
        }
      ],
      "source": [
        "# hitung value counts\n",
        "counts = data['Transmission'].value_counts()\n",
        "\n",
        "# bikin explode: kategori pertama meledak, lainnya 0\n",
        "explode = [0.1] + [0]*(len(counts)-1)\n",
        "\n",
        "plt.figure(figsize=(8, 8))\n",
        "colors = ['#ff9999', '#66b3ff', '#99ff99', '#ffcc99']  # tambah warna jika lebih dari 2 kategori\n",
        "\n",
        "plt.pie(\n",
        "    counts,\n",
        "    labels=counts.index,\n",
        "    colors=colors[:len(counts)],  # ambil sesuai jumlah kategori\n",
        "    explode=explode,\n",
        "    autopct='%1.1f%%',\n",
        "    shadow=True,\n",
        "    startangle=140,\n",
        "    wedgeprops=dict(width=0.4)  # bikin jadi donut\n",
        ")\n",
        "\n",
        "plt.title('Car Transmission Percentage')\n",
        "plt.axis('equal')\n",
        "plt.show()\n"
      ]
    },
    {
      "cell_type": "markdown",
      "id": "Y38UcV20xWvq",
      "metadata": {
        "id": "Y38UcV20xWvq"
      },
      "source": [
        "### **3. Transmission Type**\n",
        "\n",
        "* The market is **heavily skewed towards Automatic transmissions (85.8%)**.\n",
        "* Manual cars represent only **8.7%**.\n",
        "* Minor inconsistencies in scraping created categories like *“Otomatis”* and *“inspection.188.field.option.automatic”*, but their proportions are negligible.\n",
        "* Insight: Indonesian used car buyers strongly prefer **automatic cars**.\n"
      ]
    },
    {
      "cell_type": "markdown",
      "id": "T7PxIA5VJoT_",
      "metadata": {
        "id": "T7PxIA5VJoT_"
      },
      "source": [
        "## 4.4 Percentage of Fuel"
      ]
    },
    {
      "cell_type": "code",
      "execution_count": 17,
      "id": "zYwL7UmWJTYN",
      "metadata": {
        "colab": {
          "base_uri": "https://localhost:8080/",
          "height": 675
        },
        "id": "zYwL7UmWJTYN",
        "outputId": "b73a4e41-26e3-4136-b074-67d1aeed81b5"
      },
      "outputs": [
        {
          "data": {
            "image/png": "[encoded data removed]",
            "text/plain": [
              "<Figure size 800x800 with 1 Axes>"
            ]
          },
          "metadata": {},
          "output_type": "display_data"
        }
      ],
      "source": [
        "import matplotlib.pyplot as plt\n",
        "\n",
        "# hitung value counts\n",
        "counts = data['Fuel'].value_counts()\n",
        "\n",
        "# explode kategori pertama saja biar fokus\n",
        "explode = [0.1] + [0]*(len(counts)-1) if len(counts) > 0 else []\n",
        "\n",
        "plt.figure(figsize=(8, 8))\n",
        "\n",
        "# warna dipilih sesuai kategori\n",
        "color_map = {\n",
        "    'Bensin': '#ff7043',   # orange kemerahan\n",
        "    'Diesel': '#757575',   # abu-abu gelap\n",
        "    'Hybrid': '#66bb6a',   # hijau segar\n",
        "    'Listrik': '#87CEEB'   # biru muda\n",
        "}\n",
        "\n",
        "# gunakan .get biar aman kalau ada kategori lain\n",
        "colors = [color_map.get(fuel, '#cccccc') for fuel in counts.index]\n",
        "\n",
        "plt.pie(\n",
        "    counts,\n",
        "    labels=counts.index,\n",
        "    colors=colors,\n",
        "    explode=explode,\n",
        "    autopct='%1.1f%%',\n",
        "    shadow=True,\n",
        "    startangle=140,\n",
        "    wedgeprops=dict(width=0.4)  # donut chart\n",
        ")\n",
        "\n",
        "plt.title('Car fuel Type Percentage')\n",
        "plt.axis('equal')\n",
        "plt.show()\n"
      ]
    },
    {
      "cell_type": "markdown",
      "id": "B0el4uH-xbg0",
      "metadata": {
        "id": "B0el4uH-xbg0"
      },
      "source": [
        "### **4. Fuel Type**\n",
        "\n",
        "* The dataset is dominated by **Petrol (Bensin) cars at 81.7%**.\n",
        "* **Diesel cars account for 10.1%**, a significant minority.\n",
        "* **Hybrid (4.9%)** and **Electric (2.6%)** cars are present but remain niche in the used car market.\n",
        "* Insight: The market is still very dependent on petrol, though EV and hybrid adoption is slowly emerging."
      ]
    },
    {
      "cell_type": "markdown",
      "id": "0EntWpqoKM1r",
      "metadata": {
        "id": "0EntWpqoKM1r"
      },
      "source": [
        "## 4.5 Distribution of the Millage of the car"
      ]
    },
    {
      "cell_type": "code",
      "execution_count": 18,
      "id": "E6yRMYGWfqlu",
      "metadata": {
        "colab": {
          "base_uri": "https://localhost:8080/"
        },
        "id": "E6yRMYGWfqlu",
        "outputId": "ee91a94e-f661-405a-9fad-6b934cf10b43"
      },
      "outputs": [
        {
          "data": {
            "text/plain": [
              "array(['40.000-45.000 Km', '85.000-90.000 Km', '35.000-40.000 Km',\n",
              "       '65.000-70.000 Km', '0-5.000 Km', '25.000-30.000 Km',\n",
              "       '20.000-25.000 Km', '5.000-10.000 Km', '75.000-80.000 Km',\n",
              "       '130.000-135.000 Km', '10.000-15.000 Km', '30.000-35.000 Km',\n",
              "       '50.000-55.000 Km', '60.000-65.000 Km', '45.000-50.000 Km',\n",
              "       '70.000-75.000 Km', '95.000-100.000 Km', '0 Km',\n",
              "       '90.000-95.000 Km', '10000 Km', '81720 Km', '55.000-60.000 Km',\n",
              "       '175.000-180.000 Km', '120.000-125.000 Km', '90000 Km',\n",
              "       '>300.000 Km', '115.000-120.000 Km', '135.000-140.000 Km',\n",
              "       '40000 Km', '15.000-20.000 Km', '70000 Km', '145.000-150.000 Km',\n",
              "       '100.000-105.000 Km', '110.000-115.000 Km', '150.000-155.000 Km',\n",
              "       '160000 Km', '50000 Km', '140000 Km', '120000 Km',\n",
              "       '140.000-145.000 Km', '125.000-130.000 Km', '30000 Km',\n",
              "       '80.000-85.000 Km', '105.000-110.000 Km', '74835 Km'], dtype=object)"
            ]
          },
          "execution_count": 18,
          "metadata": {},
          "output_type": "execute_result"
        }
      ],
      "source": [
        "data['Range'].unique()"
      ]
    },
    {
      "cell_type": "code",
      "execution_count": 19,
      "id": "Afw4XxPWL0XH",
      "metadata": {
        "colab": {
          "base_uri": "https://localhost:8080/",
          "height": 750
        },
        "id": "Afw4XxPWL0XH",
        "outputId": "50028cdc-69f4-4341-9a88-062a456a9fb9"
      },
      "outputs": [
        {
          "name": "stderr",
          "output_type": "stream",
          "text": [
            "C:\\Users\\muham\\AppData\\Local\\Temp\\ipykernel_22800\\1425763996.py:12: FutureWarning: \n",
            "\n",
            "Passing `palette` without assigning `hue` is deprecated and will be removed in v0.14.0. Assign the `x` variable to `hue` and set `legend=False` for the same effect.\n",
            "\n",
            "  sns.barplot(x=range_counts.index, y=range_counts.values, palette=\"Blues\")\n"
          ]
        },
        {
          "data": {
            "image/png": "[encoded data removed]",
            "text/plain": [
              "<Figure size 1200x600 with 1 Axes>"
            ]
          },
          "metadata": {},
          "output_type": "display_data"
        }
      ],
      "source": [
        "# urutan range yang kamu inginkan\n",
        "range_order = ['0 Km','0-5.000 Km','5.000-10.000 Km','10.000-15.000 Km','15.000-20.000 Km','20.000-25.000 Km','25.000-30.000 Km','30.000-35.000 Km','30000 Km','35.000-40.000 Km','40.000-45.000 Km','40000 Km','45.000-50.000 Km','50.000-55.000 Km','50000 Km','55.000-60.000 Km','60.000-65.000 Km','65.000-70.000 Km','70000 Km','70.000-75.000 Km','75.000-80.000 Km','80.000-85.000 Km','81720 Km','85.000-90.000 Km','90000 Km','90.000-95.000 Km','95.000-100.000 Km','10000 Km','100.000-105.000 Km','105.000-110.000 Km','110.000-115.000 Km','115.000-120.000 Km','120.000-125.000 Km','120000 Km','125.000-130.000 Km','130.000-135.000 Km','135.000-140.000 Km','140.000-145.000 Km','140000 Km','145.000-150.000 Km','150.000-155.000 Km','160000 Km','175.000-180.000 Km','>300.000 Km']\n",
        "\n",
        "# jadikan categorical\n",
        "data['Range'] = pd.Categorical(data['Range'], categories=range_order, ordered=True)\n",
        "\n",
        "# hitung jumlah\n",
        "range_counts = data['Range'].value_counts().sort_index()\n",
        "\n",
        "# plotting\n",
        "plt.figure(figsize=(12,6))\n",
        "sns.barplot(x=range_counts.index, y=range_counts.values, palette=\"Blues\")\n",
        "plt.title(\"Distribution of car millage\")\n",
        "plt.xlabel(\"Range (Kilometer)\")\n",
        "plt.ylabel(\"Number of Car\")\n",
        "plt.xticks(rotation=45, ha=\"right\")\n",
        "plt.show()\n"
      ]
    },
    {
      "cell_type": "markdown",
      "id": "57c4QWBxxfwE",
      "metadata": {
        "id": "57c4QWBxxfwE"
      },
      "source": [
        "### **5. Mileage Distribution**\n",
        "\n",
        "* The majority of cars fall within **20,000 – 50,000 km**, peaking around **35,000 – 40,000 km (30+ cars)**.\n",
        "* Moderate mileage cars (50,000 – 100,000 km) are also well represented.\n",
        "* High mileage cars (>150,000 km) exist but are relatively few, with only a handful exceeding **300,000 km**.\n",
        "* Insight: The dataset is dominated by **low-to-medium mileage cars**, which are typically more attractive to buyers."
      ]
    },
    {
      "cell_type": "markdown",
      "id": "t8DU_mscMBfu",
      "metadata": {
        "id": "t8DU_mscMBfu"
      },
      "source": [
        "## 4.6 Distribution of the year of the car"
      ]
    },
    {
      "cell_type": "code",
      "execution_count": 20,
      "id": "AxCA2BP5MpQ5",
      "metadata": {
        "colab": {
          "base_uri": "https://localhost:8080/",
          "height": 672
        },
        "id": "AxCA2BP5MpQ5",
        "outputId": "916463b6-4ea9-4ec5-871b-6b2477dc6595"
      },
      "outputs": [
        {
          "name": "stderr",
          "output_type": "stream",
          "text": [
            "C:\\Users\\muham\\AppData\\Local\\Temp\\ipykernel_22800\\343887873.py:4: FutureWarning: \n",
            "\n",
            "Passing `palette` without assigning `hue` is deprecated and will be removed in v0.14.0. Assign the `x` variable to `hue` and set `legend=False` for the same effect.\n",
            "\n",
            "  sns.barplot(x=year_counts.index, y=year_counts.values, palette=\"Blues\")\n"
          ]
        },
        {
          "data": {
            "image/png": "[encoded data removed]",
            "text/plain": [
              "<Figure size 1200x600 with 1 Axes>"
            ]
          },
          "metadata": {},
          "output_type": "display_data"
        }
      ],
      "source": [
        "# Create chart to knos distribution year of the car\n",
        "year_counts = data['Year'].value_counts().sort_index()\n",
        "plt.figure(figsize=(12,6))\n",
        "sns.barplot(x=year_counts.index, y=year_counts.values, palette=\"Blues\")\n",
        "plt.title(\"Car production Year\")\n",
        "plt.xlabel(\"Year\")\n",
        "plt.ylabel(\"Number of Car\")\n",
        "plt.xticks(rotation=45, ha=\"right\")\n",
        "plt.show()"
      ]
    },
    {
      "cell_type": "markdown",
      "id": "e52d9154",
      "metadata": {},
      "source": [
        "## 4.7 Price Distribution"
      ]
    },
    {
      "cell_type": "code",
      "execution_count": 21,
      "id": "0a686838",
      "metadata": {},
      "outputs": [
        {
          "data": {
            "image/png": "[encoded data removed]",
            "text/plain": [
              "<Figure size 1000x600 with 1 Axes>"
            ]
          },
          "metadata": {},
          "output_type": "display_data"
        }
      ],
      "source": [
        "# Use boxplot to see the outlier in price column\n",
        "plt.figure(figsize=(10, 6))\n",
        "sns.boxplot(x=data['Price'])\n",
        "plt.title('Boxplot of Car Prices')\n",
        "plt.xlabel('Price (IDR)')\n",
        "plt.show()"
      ]
    },
    {
      "cell_type": "markdown",
      "id": "88cc1280",
      "metadata": {},
      "source": [
        "This box plot shows a data distribution that is skewed to the right, meaning there are a few very high-priced cars that are pulling the average price up. The median price is 375,000,000 IDR, which is a better measure of the typical car price than the mean because it isn't affected by the extreme values. The wide range of prices in the upper quartile, combined with the presence of multiple high-value outliers, suggests that the dataset includes a mix of cars, from more standard models to a few high-end, luxury, or rare vehicles."
      ]
    },
    {
      "cell_type": "markdown",
      "id": "g2TUVKhLNL1p",
      "metadata": {
        "id": "g2TUVKhLNL1p"
      },
      "source": [
        "# 5. Feature Engineering"
      ]
    },
    {
      "cell_type": "markdown",
      "id": "Vj4-cJpbNVQX",
      "metadata": {
        "id": "Vj4-cJpbNVQX"
      },
      "source": [
        "## 5.1 Split data train and data test\n"
      ]
    },
    {
      "cell_type": "code",
      "execution_count": 22,
      "id": "E6kL8vftqe1F",
      "metadata": {
        "id": "E6kL8vftqe1F"
      },
      "outputs": [],
      "source": [
        "X = data.drop('Price', axis=1)\n",
        "y = data['Price']"
      ]
    },
    {
      "cell_type": "code",
      "execution_count": 23,
      "id": "_h7EgjpONUbJ",
      "metadata": {
        "id": "_h7EgjpONUbJ"
      },
      "outputs": [],
      "source": [
        "X_train, X_test, y_train, y_test = train_test_split(\n",
        "    X, y, test_size=0.2, random_state=42\n",
        ")"
      ]
    },
    {
      "cell_type": "code",
      "execution_count": 24,
      "id": "cLcmFyzaNeeU",
      "metadata": {
        "colab": {
          "base_uri": "https://localhost:8080/",
          "height": 206
        },
        "id": "cLcmFyzaNeeU",
        "outputId": "48e89c83-56ea-4dd9-e712-48d34e190285"
      },
      "outputs": [
        {
          "data": {
            "text/html": [
              "<div>\n",
              "<style scoped>\n",
              "    .dataframe tbody tr th:only-of-type {\n",
              "        vertical-align: middle;\n",
              "    }\n",
              "\n",
              "    .dataframe tbody tr th {\n",
              "        vertical-align: top;\n",
              "    }\n",
              "\n",
              "    .dataframe thead th {\n",
              "        text-align: right;\n",
              "    }\n",
              "</style>\n",
              "<table border=\"1\" class=\"dataframe\">\n",
              "  <thead>\n",
              "    <tr style=\"text-align: right;\">\n",
              "      <th></th>\n",
              "      <th>Type</th>\n",
              "      <th>Fuel</th>\n",
              "      <th>Engine</th>\n",
              "      <th>Location</th>\n",
              "      <th>Transmission</th>\n",
              "      <th>Range</th>\n",
              "      <th>Description</th>\n",
              "      <th>Year</th>\n",
              "      <th>Brand</th>\n",
              "    </tr>\n",
              "  </thead>\n",
              "  <tbody>\n",
              "    <tr>\n",
              "      <th>66</th>\n",
              "      <td>s-presso</td>\n",
              "      <td>Bensin</td>\n",
              "      <td>&lt;1.000 cc</td>\n",
              "      <td>Pesanggrahan, Jakarta Selatan</td>\n",
              "      <td>Automatic</td>\n",
              "      <td>50.000-55.000 Km</td>\n",
              "      <td>Deskripsi 2022 Suzuki S Presso AT AGS Dp 12 Jt...</td>\n",
              "      <td>2022</td>\n",
              "      <td>suzuki</td>\n",
              "    </tr>\n",
              "    <tr>\n",
              "      <th>229</th>\n",
              "      <td>brz</td>\n",
              "      <td>Bensin</td>\n",
              "      <td>&gt;2.000 - 3.000 cc</td>\n",
              "      <td>Kebayoran Baru, Jakarta Selatan</td>\n",
              "      <td>Manual</td>\n",
              "      <td>5.000-10.000 Km</td>\n",
              "      <td>Deskripsi Subaru BRZ MT km6rb titipan temen bu...</td>\n",
              "      <td>2023</td>\n",
              "      <td>subaru</td>\n",
              "    </tr>\n",
              "    <tr>\n",
              "      <th>7</th>\n",
              "      <td>mercedes-benz c300</td>\n",
              "      <td>Bensin</td>\n",
              "      <td>&gt;2.000 - 3.000 cc</td>\n",
              "      <td>Kebayoran Lama, Jakarta Selatan</td>\n",
              "      <td>Automatic</td>\n",
              "      <td>5.000-10.000 Km</td>\n",
              "      <td>Deskripsi MERCEDES BENZ C300 AMG 2020/2021 NEW...</td>\n",
              "      <td>2020</td>\n",
              "      <td>mercedes-benz</td>\n",
              "    </tr>\n",
              "    <tr>\n",
              "      <th>140</th>\n",
              "      <td>mercedes-benz cla200</td>\n",
              "      <td>Bensin</td>\n",
              "      <td>&gt;1.000 - 1.500 cc</td>\n",
              "      <td>Kebayoran Baru, Jakarta Selatan</td>\n",
              "      <td>Automatic</td>\n",
              "      <td>15.000-20.000 Km</td>\n",
              "      <td>Deskripsi FOR SALE Mercy Mercedes Benz CLA200 ...</td>\n",
              "      <td>2019</td>\n",
              "      <td>mercedes-benz</td>\n",
              "    </tr>\n",
              "    <tr>\n",
              "      <th>324</th>\n",
              "      <td>grandis</td>\n",
              "      <td>Bensin</td>\n",
              "      <td>&gt;2.000 - 3.000 cc</td>\n",
              "      <td>Kebayoran Baru, Jakarta Selatan</td>\n",
              "      <td>Automatic</td>\n",
              "      <td>140.000-145.000 Km</td>\n",
              "      <td>Deskripsi Permisi gan, ane mau jual Mitsubishi...</td>\n",
              "      <td>2006</td>\n",
              "      <td>mitsubishi</td>\n",
              "    </tr>\n",
              "  </tbody>\n",
              "</table>\n",
              "</div>"
            ],
            "text/plain": [
              "                     Type    Fuel             Engine  \\\n",
              "66               s-presso  Bensin          <1.000 cc   \n",
              "229                   brz  Bensin  >2.000 - 3.000 cc   \n",
              "7      mercedes-benz c300  Bensin  >2.000 - 3.000 cc   \n",
              "140  mercedes-benz cla200  Bensin  >1.000 - 1.500 cc   \n",
              "324               grandis  Bensin  >2.000 - 3.000 cc   \n",
              "\n",
              "                            Location Transmission               Range  \\\n",
              "66     Pesanggrahan, Jakarta Selatan    Automatic    50.000-55.000 Km   \n",
              "229  Kebayoran Baru, Jakarta Selatan       Manual     5.000-10.000 Km   \n",
              "7    Kebayoran Lama, Jakarta Selatan    Automatic     5.000-10.000 Km   \n",
              "140  Kebayoran Baru, Jakarta Selatan    Automatic    15.000-20.000 Km   \n",
              "324  Kebayoran Baru, Jakarta Selatan    Automatic  140.000-145.000 Km   \n",
              "\n",
              "                                           Description  Year          Brand  \n",
              "66   Deskripsi 2022 Suzuki S Presso AT AGS Dp 12 Jt...  2022         suzuki  \n",
              "229  Deskripsi Subaru BRZ MT km6rb titipan temen bu...  2023         subaru  \n",
              "7    Deskripsi MERCEDES BENZ C300 AMG 2020/2021 NEW...  2020  mercedes-benz  \n",
              "140  Deskripsi FOR SALE Mercy Mercedes Benz CLA200 ...  2019  mercedes-benz  \n",
              "324  Deskripsi Permisi gan, ane mau jual Mitsubishi...  2006     mitsubishi  "
            ]
          },
          "execution_count": 24,
          "metadata": {},
          "output_type": "execute_result"
        }
      ],
      "source": [
        "X_train.head()"
      ]
    },
    {
      "cell_type": "code",
      "execution_count": 25,
      "id": "w5PsGYVcNiJf",
      "metadata": {
        "colab": {
          "base_uri": "https://localhost:8080/",
          "height": 206
        },
        "id": "w5PsGYVcNiJf",
        "outputId": "77030229-abb3-4ea0-f936-387127ecec71"
      },
      "outputs": [
        {
          "data": {
            "text/html": [
              "<div>\n",
              "<style scoped>\n",
              "    .dataframe tbody tr th:only-of-type {\n",
              "        vertical-align: middle;\n",
              "    }\n",
              "\n",
              "    .dataframe tbody tr th {\n",
              "        vertical-align: top;\n",
              "    }\n",
              "\n",
              "    .dataframe thead th {\n",
              "        text-align: right;\n",
              "    }\n",
              "</style>\n",
              "<table border=\"1\" class=\"dataframe\">\n",
              "  <thead>\n",
              "    <tr style=\"text-align: right;\">\n",
              "      <th></th>\n",
              "      <th>Type</th>\n",
              "      <th>Fuel</th>\n",
              "      <th>Engine</th>\n",
              "      <th>Location</th>\n",
              "      <th>Transmission</th>\n",
              "      <th>Range</th>\n",
              "      <th>Description</th>\n",
              "      <th>Year</th>\n",
              "      <th>Brand</th>\n",
              "    </tr>\n",
              "  </thead>\n",
              "  <tbody>\n",
              "    <tr>\n",
              "      <th>194</th>\n",
              "      <td>xenia</td>\n",
              "      <td>Bensin</td>\n",
              "      <td>&gt;1.000 - 1.500 cc</td>\n",
              "      <td>Cilandak, Jakarta Selatan</td>\n",
              "      <td>Manual</td>\n",
              "      <td>10.000-15.000 Km</td>\n",
              "      <td>Deskripsi \"Daihatsu Xenia 1.5 . Khusus Harga K...</td>\n",
              "      <td>2023</td>\n",
              "      <td>daihatsu</td>\n",
              "    </tr>\n",
              "    <tr>\n",
              "      <th>157</th>\n",
              "      <td>kijang innova</td>\n",
              "      <td>Bensin</td>\n",
              "      <td>&gt;1.500 - 2.000 cc</td>\n",
              "      <td>Cilandak, Jakarta Selatan</td>\n",
              "      <td>Manual</td>\n",
              "      <td>60.000-65.000 Km</td>\n",
              "      <td>Deskripsi \"Toyota Kijang Innova 2.0 E Bensin-M...</td>\n",
              "      <td>2009</td>\n",
              "      <td>toyota</td>\n",
              "    </tr>\n",
              "    <tr>\n",
              "      <th>225</th>\n",
              "      <td>mercedes-benz cla200</td>\n",
              "      <td>Bensin</td>\n",
              "      <td>&gt;1.500 - 2.000 cc</td>\n",
              "      <td>Cilandak, Jakarta Selatan</td>\n",
              "      <td>Automatic</td>\n",
              "      <td>25.000-30.000 Km</td>\n",
              "      <td>Deskripsi For Sale : Mercedes Benz CLA 200 Typ...</td>\n",
              "      <td>2018</td>\n",
              "      <td>mercedes-benz</td>\n",
              "    </tr>\n",
              "    <tr>\n",
              "      <th>208</th>\n",
              "      <td>terios</td>\n",
              "      <td>Bensin</td>\n",
              "      <td>&gt;1.000 - 1.500 cc</td>\n",
              "      <td>Kebayoran Baru, Jakarta Selatan</td>\n",
              "      <td>Automatic</td>\n",
              "      <td>50.000-55.000 Km</td>\n",
              "      <td>Deskripsi Daihatsu Terios R Deluxe At 2018 Typ...</td>\n",
              "      <td>2018</td>\n",
              "      <td>daihatsu</td>\n",
              "    </tr>\n",
              "    <tr>\n",
              "      <th>319</th>\n",
              "      <td>mercedes-benz e250</td>\n",
              "      <td>Bensin</td>\n",
              "      <td>&gt;1.500 - 2.000 cc</td>\n",
              "      <td>Pesanggrahan, Jakarta Selatan</td>\n",
              "      <td>Automatic</td>\n",
              "      <td>70.000-75.000 Km</td>\n",
              "      <td>Deskripsi - For Sale Mercy E250 W213 - Nik 201...</td>\n",
              "      <td>2017</td>\n",
              "      <td>mercedes-benz</td>\n",
              "    </tr>\n",
              "  </tbody>\n",
              "</table>\n",
              "</div>"
            ],
            "text/plain": [
              "                     Type    Fuel             Engine  \\\n",
              "194                 xenia  Bensin  >1.000 - 1.500 cc   \n",
              "157         kijang innova  Bensin  >1.500 - 2.000 cc   \n",
              "225  mercedes-benz cla200  Bensin  >1.500 - 2.000 cc   \n",
              "208                terios  Bensin  >1.000 - 1.500 cc   \n",
              "319    mercedes-benz e250  Bensin  >1.500 - 2.000 cc   \n",
              "\n",
              "                            Location Transmission             Range  \\\n",
              "194        Cilandak, Jakarta Selatan       Manual  10.000-15.000 Km   \n",
              "157        Cilandak, Jakarta Selatan       Manual  60.000-65.000 Km   \n",
              "225        Cilandak, Jakarta Selatan    Automatic  25.000-30.000 Km   \n",
              "208  Kebayoran Baru, Jakarta Selatan    Automatic  50.000-55.000 Km   \n",
              "319    Pesanggrahan, Jakarta Selatan    Automatic  70.000-75.000 Km   \n",
              "\n",
              "                                           Description  Year          Brand  \n",
              "194  Deskripsi \"Daihatsu Xenia 1.5 . Khusus Harga K...  2023       daihatsu  \n",
              "157  Deskripsi \"Toyota Kijang Innova 2.0 E Bensin-M...  2009         toyota  \n",
              "225  Deskripsi For Sale : Mercedes Benz CLA 200 Typ...  2018  mercedes-benz  \n",
              "208  Deskripsi Daihatsu Terios R Deluxe At 2018 Typ...  2018       daihatsu  \n",
              "319  Deskripsi - For Sale Mercy E250 W213 - Nik 201...  2017  mercedes-benz  "
            ]
          },
          "execution_count": 25,
          "metadata": {},
          "output_type": "execute_result"
        }
      ],
      "source": [
        "X_test.head()"
      ]
    },
    {
      "cell_type": "markdown",
      "id": "f6-9Ncq1Nm3h",
      "metadata": {
        "id": "f6-9Ncq1Nm3h"
      },
      "source": [
        "## 5.2 Feature Selection\n"
      ]
    },
    {
      "cell_type": "code",
      "execution_count": 26,
      "id": "we5QdLpzs7zv",
      "metadata": {
        "colab": {
          "base_uri": "https://localhost:8080/",
          "height": 791
        },
        "id": "we5QdLpzs7zv",
        "outputId": "fab31e4a-c4c5-44ab-ad20-c2e666c19999"
      },
      "outputs": [
        {
          "name": "stdout",
          "output_type": "stream",
          "text": [
            "interval columns not set, guessing: ['Year', 'Price']\n"
          ]
        },
        {
          "data": {
            "image/png": "[encoded data removed]",
            "text/plain": [
              "<Figure size 1000x800 with 2 Axes>"
            ]
          },
          "metadata": {},
          "output_type": "display_data"
        }
      ],
      "source": [
        "# Using Phik to see which data that contribute the most to the price\n",
        "phik_overview = pd.concat([X_train, y_train], axis=1).phik_matrix()\n",
        "plt.figure(figsize=(10, 8))\n",
        "sns.heatmap(phik_overview, annot=True, cmap='coolwarm')\n",
        "plt.title('Phik Correlation Heatmap')\n",
        "plt.show()"
      ]
    },
    {
      "cell_type": "code",
      "execution_count": 27,
      "id": "VJg19KzbnVx0",
      "metadata": {
        "id": "VJg19KzbnVx0"
      },
      "outputs": [],
      "source": [
        "# im gonna select the features that have a high correlation with the target variable (price) with a threshold of 0.1\n",
        "selected_features = phik_overview.index[phik_overview['Price'].abs() > 0.2].tolist()"
      ]
    },
    {
      "cell_type": "code",
      "execution_count": 28,
      "id": "XbugZZfCogDO",
      "metadata": {
        "colab": {
          "base_uri": "https://localhost:8080/"
        },
        "id": "XbugZZfCogDO",
        "outputId": "0decb4db-aad9-4a5e-bfd0-f44758210a94"
      },
      "outputs": [
        {
          "name": "stdout",
          "output_type": "stream",
          "text": [
            "Selected Features: ['Type', 'Fuel', 'Engine', 'Range', 'Description', 'Brand', 'Price']\n"
          ]
        }
      ],
      "source": [
        "selected_features = [feature for feature in selected_features ]\n",
        "print(\"Selected Features:\", selected_features)\n",
        "# Delete price from selected feature\n",
        "selected_features.remove('Price')"
      ]
    },
    {
      "cell_type": "markdown",
      "id": "52d363fa",
      "metadata": {
        "id": "52d363fa"
      },
      "source": [
        "## 5.3 Cardinality check"
      ]
    },
    {
      "cell_type": "code",
      "execution_count": 29,
      "id": "qD7ceF34k30S",
      "metadata": {
        "colab": {
          "base_uri": "https://localhost:8080/"
        },
        "id": "qD7ceF34k30S",
        "outputId": "55eca7d6-6990-4a8a-ab2b-8b351240350b"
      },
      "outputs": [
        {
          "name": "stdout",
          "output_type": "stream",
          "text": [
            "Selected Features: ['Type', 'Fuel', 'Engine', 'Range', 'Description', 'Brand']\n"
          ]
        }
      ],
      "source": [
        "print(\"Selected Features:\", selected_features)"
      ]
    },
    {
      "cell_type": "code",
      "execution_count": 30,
      "id": "202e0f4e",
      "metadata": {
        "id": "202e0f4e"
      },
      "outputs": [],
      "source": [
        "# Define categorical and numerical columns\n",
        "numerical_cols = ['Year']\n",
        "categorical_Nominal = ['Brand', 'Type', 'Fuel','Transmission','Engine']\n",
        "categorical_Ordinal = ['Range']"
      ]
    },
    {
      "cell_type": "code",
      "execution_count": 31,
      "id": "5naYqCqDyoEq",
      "metadata": {
        "id": "5naYqCqDyoEq"
      },
      "outputs": [],
      "source": [
        "# Concat all column that use in model\n",
        "selected_features = numerical_cols + categorical_Nominal + categorical_Ordinal"
      ]
    },
    {
      "cell_type": "code",
      "execution_count": 32,
      "id": "Wpj0ySaRAWZt",
      "metadata": {
        "id": "Wpj0ySaRAWZt"
      },
      "outputs": [],
      "source": [
        "# concat all column that use in model\n",
        "X_train_2 = pd.concat([X_train[numerical_cols], X_train[categorical_Nominal], X_train[categorical_Ordinal]], axis=1)"
      ]
    },
    {
      "cell_type": "code",
      "execution_count": 33,
      "id": "356823b0",
      "metadata": {
        "colab": {
          "base_uri": "https://localhost:8080/",
          "height": 241
        },
        "id": "356823b0",
        "outputId": "6f3c7766-41a5-4f48-afa5-caa79b33529d"
      },
      "outputs": [
        {
          "data": {
            "text/plain": [
              "Brand            28\n",
              "Type            124\n",
              "Fuel              5\n",
              "Transmission      4\n",
              "Engine            8\n",
              "dtype: int64"
            ]
          },
          "execution_count": 33,
          "metadata": {},
          "output_type": "execute_result"
        }
      ],
      "source": [
        "# See how many unique value in categorical nominal columns\n",
        "X_train[categorical_Nominal].nunique()"
      ]
    },
    {
      "cell_type": "code",
      "execution_count": 34,
      "id": "4872fdaa",
      "metadata": {
        "colab": {
          "base_uri": "https://localhost:8080/",
          "height": 115
        },
        "id": "4872fdaa",
        "outputId": "46c63567-abc9-49bc-94e2-dfbbc81f4754"
      },
      "outputs": [
        {
          "data": {
            "text/plain": [
              "Range    40\n",
              "dtype: int64"
            ]
          },
          "execution_count": 34,
          "metadata": {},
          "output_type": "execute_result"
        }
      ],
      "source": [
        "# see how many unique value in categorical ordinal columns\n",
        "X_train[categorical_Ordinal].nunique()"
      ]
    },
    {
      "cell_type": "code",
      "execution_count": 35,
      "id": "0GeHYggUvqkw",
      "metadata": {
        "colab": {
          "base_uri": "https://localhost:8080/"
        },
        "id": "0GeHYggUvqkw",
        "outputId": "fc582980-8769-49ad-aba7-b17e1c32faba"
      },
      "outputs": [
        {
          "data": {
            "text/plain": [
              "266"
            ]
          },
          "execution_count": 35,
          "metadata": {},
          "output_type": "execute_result"
        }
      ],
      "source": [
        "X_train['Description'].nunique()"
      ]
    },
    {
      "cell_type": "code",
      "execution_count": 36,
      "id": "3d564df9",
      "metadata": {
        "id": "3d564df9"
      },
      "outputs": [],
      "source": [
        "# Cause Description column have many unique value, we will drop this column\n",
        "X_train = X_train.drop('Description', axis=1)\n",
        "X_test = X_test.drop('Description', axis=1)"
      ]
    },
    {
      "cell_type": "code",
      "execution_count": 37,
      "id": "YHoUcIczQ3qi",
      "metadata": {
        "colab": {
          "base_uri": "https://localhost:8080/"
        },
        "id": "YHoUcIczQ3qi",
        "outputId": "f3cf4868-c02e-4eb6-90a5-42c797f175e4"
      },
      "outputs": [
        {
          "data": {
            "text/plain": [
              "<IntegerArray>\n",
              "[2022, 2023, 2020, 2019, 2006, 2024, 2013, 2005, 2021, 2018, 2010, 2015, 2017,\n",
              " 2025, 2016, 2014, 2000, 2004, 2011, 2001, 2009, 1999, 2012, 2008]\n",
              "Length: 24, dtype: Int64"
            ]
          },
          "execution_count": 37,
          "metadata": {},
          "output_type": "execute_result"
        }
      ],
      "source": [
        "# See how many unique value in year columns a\n",
        "X_train['Year'].unique()"
      ]
    },
    {
      "cell_type": "markdown",
      "id": "68214479",
      "metadata": {
        "id": "68214479"
      },
      "source": [
        "## 5.4 Missing Value handling"
      ]
    },
    {
      "cell_type": "code",
      "execution_count": 38,
      "id": "ffa1124c",
      "metadata": {
        "colab": {
          "base_uri": "https://localhost:8080/",
          "height": 335
        },
        "id": "ffa1124c",
        "outputId": "8b7e7676-4a56-4c08-c929-77cd497705cd"
      },
      "outputs": [
        {
          "data": {
            "text/plain": [
              "Type            0\n",
              "Fuel            0\n",
              "Engine          0\n",
              "Location        0\n",
              "Transmission    0\n",
              "Range           1\n",
              "Year            0\n",
              "Brand           0\n",
              "dtype: int64"
            ]
          },
          "execution_count": 38,
          "metadata": {},
          "output_type": "execute_result"
        }
      ],
      "source": [
        "# check missing value in X_train\n",
        "X_train.isnull().sum()"
      ]
    },
    {
      "cell_type": "markdown",
      "id": "19728bc5",
      "metadata": {
        "id": "19728bc5"
      },
      "source": [
        "There is no missing value in data"
      ]
    },
    {
      "cell_type": "markdown",
      "id": "ZGWwluarODaY",
      "metadata": {
        "id": "ZGWwluarODaY"
      },
      "source": [
        "## 5.5 Outlier Hanlding\n"
      ]
    },
    {
      "cell_type": "code",
      "execution_count": 39,
      "id": "62ETABraQmZb",
      "metadata": {
        "colab": {
          "base_uri": "https://localhost:8080/"
        },
        "id": "62ETABraQmZb",
        "outputId": "88f8d212-29c0-46fb-fc06-81fda1485011"
      },
      "outputs": [
        {
          "name": "stdout",
          "output_type": "stream",
          "text": [
            "<class 'pandas.core.frame.DataFrame'>\n",
            "Index: 276 entries, 66 to 102\n",
            "Data columns (total 1 columns):\n",
            " #   Column  Non-Null Count  Dtype\n",
            "---  ------  --------------  -----\n",
            " 0   Year    276 non-null    Int64\n",
            "dtypes: Int64(1)\n",
            "memory usage: 4.6 KB\n"
          ]
        }
      ],
      "source": [
        "data_train = X_train.copy()\n",
        "data_train[numerical_cols].info()"
      ]
    },
    {
      "cell_type": "code",
      "execution_count": 40,
      "id": "O4-XTLo0OLIg",
      "metadata": {
        "colab": {
          "base_uri": "https://localhost:8080/"
        },
        "id": "O4-XTLo0OLIg",
        "outputId": "f3d8cd31-c589-484d-fd2b-034275f27096"
      },
      "outputs": [
        {
          "name": "stdout",
          "output_type": "stream",
          "text": [
            "Data extreme =  ['Year']\n",
            "Data skew =  []\n",
            "Data normal =  []\n"
          ]
        }
      ],
      "source": [
        "# See if data is Skewed or normal\n",
        "data_extreme = []\n",
        "data_skew = []\n",
        "data_normal = []\n",
        "\n",
        "def check_skew(data):\n",
        "    for column in numerical_cols:\n",
        "        if data[column].skew() >= 1 or data[column].skew() <= -1:\n",
        "            data_extreme.append(column)\n",
        "        elif data[column].skew() >= 0.5 or data[column].skew() <= -0.5:\n",
        "            data_skew.append(column)\n",
        "        else:\n",
        "            data_normal.append(column)\n",
        "    print('Data extreme = ', data_extreme)\n",
        "    print('Data skew = ', data_skew)\n",
        "    print('Data normal = ', data_normal)\n",
        "check_skew(data_train)"
      ]
    },
    {
      "cell_type": "code",
      "execution_count": 41,
      "id": "M-38D0AMRPy_",
      "metadata": {
        "id": "M-38D0AMRPy_"
      },
      "outputs": [],
      "source": [
        "# we going to use Winsorizer to handle the outliers in the data\n",
        "extreme_cap = Winsorizer(capping_method = 'iqr', tail='both', fold=3, variables=data_extreme)"
      ]
    },
    {
      "cell_type": "markdown",
      "id": "OXg6V3JXRenf",
      "metadata": {
        "id": "OXg6V3JXRenf"
      },
      "source": [
        "### 5.2.4 Data Scaling\n"
      ]
    },
    {
      "cell_type": "code",
      "execution_count": 42,
      "id": "dmKiOi3WRlLu",
      "metadata": {
        "id": "dmKiOi3WRlLu"
      },
      "outputs": [],
      "source": [
        "# Pipeline for numerical features: Imputation, Winsorizing, Scaling\n",
        "num_pipeline = Pipeline([\n",
        "    # ('imputer', SimpleImputer(strategy='median')), # Impute missing values in Year\n",
        "    ('winsorizer', extreme_cap), # Winsorizer will be applied after imputation\n",
        "    ('scaler', RobustScaler())\n",
        "])"
      ]
    },
    {
      "cell_type": "markdown",
      "id": "nrhMxniFR6aJ",
      "metadata": {
        "id": "nrhMxniFR6aJ"
      },
      "source": [
        "## 5.5 Data Encoding\n"
      ]
    },
    {
      "cell_type": "code",
      "execution_count": 43,
      "id": "V3A-54xESH9e",
      "metadata": {
        "id": "V3A-54xESH9e"
      },
      "outputs": [],
      "source": [
        "Nominal_encoding = Pipeline([\n",
        "    ('OneHotEncoder', OneHotEncoder(handle_unknown='ignore'))\n",
        "])\n",
        "\n",
        "Ordinal_encoding = Pipeline([\n",
        "    ('OrdinalEncoder', OrdinalEncoder(\n",
        "        categories=[[\n",
        "            '0 Km', '0-5.000 Km', '5.000-10.000 Km', '10000 Km', '10.000-15.000 Km',\n",
        "            '15.000-20.000 Km', '20.000-25.000 Km', '25.000-30.000 Km',\n",
        "            '30000 Km', '30.000-35.000 Km', '35.000-40.000 Km', '40000 Km',\n",
        "            '40.000-45.000 Km', '45.000-50.000 Km', '50000 Km', '50.000-55.000 Km',\n",
        "            '55.000-60.000 Km', '60.000-65.000 Km', '65.000-70.000 Km', '70000 Km',\n",
        "            '70.000-75.000 Km', '75.000-80.000 Km', '80.000-85.000 Km', '81720 Km',\n",
        "            '85.000-90.000 Km', '90000 Km', '90.000-95.000 Km', '95.000-100.000 Km',\n",
        "            '100.000-105.000 Km', '105.000-110.000 Km', '110.000-115.000 Km',\n",
        "            '115.000-120.000 Km', '120000 Km', '120.000-125.000 Km', '125.000-130.000 Km',\n",
        "            '130.000-135.000 Km', '135.000-140.000 Km', '140000 Km', '140.000-145.000 Km',\n",
        "            '145.000-150.000 Km', '150.000-155.000 Km', '160000 Km', '175.000-180.000 Km',\n",
        "            '>300.000 Km', '74835 Km'\n",
        "        ]],\n",
        "        handle_unknown='use_encoded_value',\n",
        "        unknown_value=-1\n",
        "    ))\n",
        "])"
      ]
    },
    {
      "cell_type": "code",
      "execution_count": 44,
      "id": "ihGJKTxkPuTY",
      "metadata": {
        "id": "ihGJKTxkPuTY"
      },
      "outputs": [],
      "source": [
        "preprocessor = ColumnTransformer(\n",
        "    transformers=[\n",
        "        ('num_pipeline', num_pipeline, numerical_cols),\n",
        "        ('Nominal_encoding', Nominal_encoding, categorical_Nominal),\n",
        "        ('Ordinal_encoding', Ordinal_encoding, categorical_Ordinal)\n",
        "    ]\n",
        ")"
      ]
    },
    {
      "cell_type": "markdown",
      "id": "Ov8o8whRP8vo",
      "metadata": {
        "id": "Ov8o8whRP8vo"
      },
      "source": [
        "# 6 Model"
      ]
    },
    {
      "cell_type": "markdown",
      "id": "PLlTnCjMQrvw",
      "metadata": {
        "id": "PLlTnCjMQrvw"
      },
      "source": [
        "\n",
        "## 6.1 Search for Best Model\n",
        "\n",
        "For searching the best regression model, I’m going to compare the following:\n",
        "\n",
        "1. **Linear Regression**\n",
        "\n",
        "   * A baseline model that is simple and interpretable. It helps us understand whether the relationship between independent features and the target variable can be captured linearly.\n",
        "\n",
        "2. **Support Vector Regression (SVR)**\n",
        "\n",
        "   * Useful for capturing **non-linear relationships** through kernel tricks. It is robust against outliers and often performs well on smaller datasets with complex patterns.\n",
        "\n",
        "3. **Ridge Regression**\n",
        "\n",
        "   * A regularized version of Linear Regression that reduces overfitting by penalizing large coefficients. This is especially important when features are correlated (multicollinearity).\n",
        "\n",
        "4. **Decision Tree Regressor**\n",
        "\n",
        "   * A non-linear model that can handle both numerical and categorical features. It captures interactions between variables and provides interpretable decision rules.\n",
        "\n",
        "5. **XGBoost**\n",
        "\n",
        "   * A state-of-the-art gradient boosting model known for its **high predictive performance**. It combines multiple weak learners (decision trees) to minimize errors, making it one of the most powerful models for tabular data.\n"
      ]
    },
    {
      "cell_type": "code",
      "execution_count": 45,
      "id": "UqKVIhtUQqWl",
      "metadata": {
        "id": "UqKVIhtUQqWl"
      },
      "outputs": [],
      "source": [
        "# Creating pipelines for the models\n",
        "pipe_linear_regression = Pipeline([\n",
        "    ('preprocessor', preprocessor),('regressor', LinearRegression())])\n",
        "pipe_dt_regressor = Pipeline([\n",
        "    ('preprocessor', preprocessor), ('regressor', DecisionTreeRegressor(random_state=42))\n",
        "])\n",
        "pipe_svr = Pipeline([\n",
        "    ('preprocessor', preprocessor), ('regressor', SVR())\n",
        "])\n",
        "pipe_ridge = Pipeline([\n",
        "    ('preprocessor', preprocessor), ('regressor', Ridge())\n",
        "])\n",
        "pipe_xgboost = Pipeline([\n",
        "    ('preprocessor', preprocessor), ('regressor', xgb.XGBRegressor(objective='reg:squarederror', random_state=42))\n",
        "])"
      ]
    },
    {
      "cell_type": "markdown",
      "id": "DL93cLPS1SPc",
      "metadata": {
        "id": "DL93cLPS1SPc"
      },
      "source": [
        "## 6.2 Test data train to model"
      ]
    },
    {
      "cell_type": "code",
      "execution_count": 46,
      "id": "1KHQnHNiWh3d",
      "metadata": {
        "id": "1KHQnHNiWh3d"
      },
      "outputs": [],
      "source": [
        "from sklearn.model_selection import cross_val_score\n",
        "\n",
        "# Dictionary to store models\n",
        "models = {\n",
        "    'Linear Regression': pipe_linear_regression,\n",
        "    'SVR': pipe_svr,\n",
        "    'Ridge': pipe_ridge,\n",
        "    'Decision Tree Regressor': pipe_dt_regressor,\n",
        "    'XGBoost': pipe_xgboost\n",
        "}\n",
        "\n",
        "\n"
      ]
    },
    {
      "cell_type": "code",
      "execution_count": 47,
      "id": "ED86GKeoI59x",
      "metadata": {
        "colab": {
          "base_uri": "https://localhost:8080/",
          "height": 424
        },
        "id": "ED86GKeoI59x",
        "outputId": "7d8926fa-3824-44f9-ca0f-cf9ed182720d"
      },
      "outputs": [
        {
          "data": {
            "text/html": [
              "<div>\n",
              "<style scoped>\n",
              "    .dataframe tbody tr th:only-of-type {\n",
              "        vertical-align: middle;\n",
              "    }\n",
              "\n",
              "    .dataframe tbody tr th {\n",
              "        vertical-align: top;\n",
              "    }\n",
              "\n",
              "    .dataframe thead th {\n",
              "        text-align: right;\n",
              "    }\n",
              "</style>\n",
              "<table border=\"1\" class=\"dataframe\">\n",
              "  <thead>\n",
              "    <tr style=\"text-align: right;\">\n",
              "      <th></th>\n",
              "      <th>Year</th>\n",
              "      <th>Brand</th>\n",
              "      <th>Type</th>\n",
              "      <th>Fuel</th>\n",
              "      <th>Transmission</th>\n",
              "      <th>Engine</th>\n",
              "      <th>Range</th>\n",
              "    </tr>\n",
              "  </thead>\n",
              "  <tbody>\n",
              "    <tr>\n",
              "      <th>66</th>\n",
              "      <td>2022</td>\n",
              "      <td>suzuki</td>\n",
              "      <td>s-presso</td>\n",
              "      <td>Bensin</td>\n",
              "      <td>Automatic</td>\n",
              "      <td>&lt;1.000 cc</td>\n",
              "      <td>50.000-55.000 Km</td>\n",
              "    </tr>\n",
              "    <tr>\n",
              "      <th>229</th>\n",
              "      <td>2023</td>\n",
              "      <td>subaru</td>\n",
              "      <td>brz</td>\n",
              "      <td>Bensin</td>\n",
              "      <td>Manual</td>\n",
              "      <td>&gt;2.000 - 3.000 cc</td>\n",
              "      <td>5.000-10.000 Km</td>\n",
              "    </tr>\n",
              "    <tr>\n",
              "      <th>7</th>\n",
              "      <td>2020</td>\n",
              "      <td>mercedes-benz</td>\n",
              "      <td>mercedes-benz c300</td>\n",
              "      <td>Bensin</td>\n",
              "      <td>Automatic</td>\n",
              "      <td>&gt;2.000 - 3.000 cc</td>\n",
              "      <td>5.000-10.000 Km</td>\n",
              "    </tr>\n",
              "    <tr>\n",
              "      <th>140</th>\n",
              "      <td>2019</td>\n",
              "      <td>mercedes-benz</td>\n",
              "      <td>mercedes-benz cla200</td>\n",
              "      <td>Bensin</td>\n",
              "      <td>Automatic</td>\n",
              "      <td>&gt;1.000 - 1.500 cc</td>\n",
              "      <td>15.000-20.000 Km</td>\n",
              "    </tr>\n",
              "    <tr>\n",
              "      <th>324</th>\n",
              "      <td>2006</td>\n",
              "      <td>mitsubishi</td>\n",
              "      <td>grandis</td>\n",
              "      <td>Bensin</td>\n",
              "      <td>Automatic</td>\n",
              "      <td>&gt;2.000 - 3.000 cc</td>\n",
              "      <td>140.000-145.000 Km</td>\n",
              "    </tr>\n",
              "    <tr>\n",
              "      <th>...</th>\n",
              "      <td>...</td>\n",
              "      <td>...</td>\n",
              "      <td>...</td>\n",
              "      <td>...</td>\n",
              "      <td>...</td>\n",
              "      <td>...</td>\n",
              "      <td>...</td>\n",
              "    </tr>\n",
              "    <tr>\n",
              "      <th>188</th>\n",
              "      <td>2023</td>\n",
              "      <td>toyota</td>\n",
              "      <td>kijang innova</td>\n",
              "      <td>Bensin</td>\n",
              "      <td>Automatic</td>\n",
              "      <td>&gt;1.500 - 2.000 cc</td>\n",
              "      <td>20.000-25.000 Km</td>\n",
              "    </tr>\n",
              "    <tr>\n",
              "      <th>71</th>\n",
              "      <td>2023</td>\n",
              "      <td>jeep</td>\n",
              "      <td>rubicon</td>\n",
              "      <td>Bensin</td>\n",
              "      <td>Automatic</td>\n",
              "      <td>&gt;1.500 - 2.000 cc</td>\n",
              "      <td>5.000-10.000 Km</td>\n",
              "    </tr>\n",
              "    <tr>\n",
              "      <th>106</th>\n",
              "      <td>2021</td>\n",
              "      <td>hyundai</td>\n",
              "      <td>staria</td>\n",
              "      <td>Diesel</td>\n",
              "      <td>Automatic</td>\n",
              "      <td>&gt;2.000 - 3.000 cc</td>\n",
              "      <td>20.000-25.000 Km</td>\n",
              "    </tr>\n",
              "    <tr>\n",
              "      <th>270</th>\n",
              "      <td>2023</td>\n",
              "      <td>kia</td>\n",
              "      <td>carens</td>\n",
              "      <td>Bensin</td>\n",
              "      <td>Automatic</td>\n",
              "      <td>&gt;1.000 - 1.500 cc</td>\n",
              "      <td>15.000-20.000 Km</td>\n",
              "    </tr>\n",
              "    <tr>\n",
              "      <th>102</th>\n",
              "      <td>2023</td>\n",
              "      <td>hyundai</td>\n",
              "      <td>stargazer</td>\n",
              "      <td>Bensin</td>\n",
              "      <td>Automatic</td>\n",
              "      <td>&gt;1.000 - 1.500 cc</td>\n",
              "      <td>25.000-30.000 Km</td>\n",
              "    </tr>\n",
              "  </tbody>\n",
              "</table>\n",
              "<p>276 rows × 7 columns</p>\n",
              "</div>"
            ],
            "text/plain": [
              "     Year          Brand                  Type    Fuel Transmission  \\\n",
              "66   2022         suzuki              s-presso  Bensin    Automatic   \n",
              "229  2023         subaru                   brz  Bensin       Manual   \n",
              "7    2020  mercedes-benz    mercedes-benz c300  Bensin    Automatic   \n",
              "140  2019  mercedes-benz  mercedes-benz cla200  Bensin    Automatic   \n",
              "324  2006     mitsubishi               grandis  Bensin    Automatic   \n",
              "..    ...            ...                   ...     ...          ...   \n",
              "188  2023         toyota         kijang innova  Bensin    Automatic   \n",
              "71   2023           jeep               rubicon  Bensin    Automatic   \n",
              "106  2021        hyundai                staria  Diesel    Automatic   \n",
              "270  2023            kia                carens  Bensin    Automatic   \n",
              "102  2023        hyundai             stargazer  Bensin    Automatic   \n",
              "\n",
              "                Engine               Range  \n",
              "66           <1.000 cc    50.000-55.000 Km  \n",
              "229  >2.000 - 3.000 cc     5.000-10.000 Km  \n",
              "7    >2.000 - 3.000 cc     5.000-10.000 Km  \n",
              "140  >1.000 - 1.500 cc    15.000-20.000 Km  \n",
              "324  >2.000 - 3.000 cc  140.000-145.000 Km  \n",
              "..                 ...                 ...  \n",
              "188  >1.500 - 2.000 cc    20.000-25.000 Km  \n",
              "71   >1.500 - 2.000 cc     5.000-10.000 Km  \n",
              "106  >2.000 - 3.000 cc    20.000-25.000 Km  \n",
              "270  >1.000 - 1.500 cc    15.000-20.000 Km  \n",
              "102  >1.000 - 1.500 cc    25.000-30.000 Km  \n",
              "\n",
              "[276 rows x 7 columns]"
            ]
          },
          "execution_count": 47,
          "metadata": {},
          "output_type": "execute_result"
        }
      ],
      "source": [
        "X_train[selected_features]"
      ]
    },
    {
      "cell_type": "code",
      "execution_count": 48,
      "id": "6gBcgu6dE-xp",
      "metadata": {
        "colab": {
          "base_uri": "https://localhost:8080/"
        },
        "id": "6gBcgu6dE-xp",
        "outputId": "af134bf5-f1f7-4a73-c7f6-1ef8d4666466"
      },
      "outputs": [
        {
          "name": "stdout",
          "output_type": "stream",
          "text": [
            "Cross-validation RMSE scores (5-fold):\n",
            "Linear Regression: 275034452.55 (+/- 46081680.24)\n",
            "SVR: 446430320.06 (+/- 85653009.06)\n",
            "Ridge: 244065386.64 (+/- 41726943.15)\n",
            "Decision Tree Regressor: 256063353.16 (+/- 63952525.59)\n",
            "XGBoost: 251273945.61 (+/- 85613691.67)\n"
          ]
        }
      ],
      "source": [
        "# Perform cross-validation for each model\n",
        "results = {}\n",
        "for name, model in models.items():\n",
        "    # Use negative mean squared error as scoring and then take the square root for RMSE\n",
        "    scores = cross_val_score(model, X_train[selected_features], y_train, cv=5, scoring='neg_mean_squared_error')\n",
        "    rmse_scores = np.sqrt(-scores)\n",
        "    results[name] = rmse_scores\n",
        "\n",
        "# Print the cross-validation results\n",
        "print(\"Cross-validation RMSE scores (5-fold):\")\n",
        "for name, scores in results.items():\n",
        "    print(f\"{name}: {scores.mean():.2f} (+/- {scores.std():.2f})\")"
      ]
    },
    {
      "cell_type": "markdown",
      "id": "Lk4TX0Wc1Xgp",
      "metadata": {
        "id": "Lk4TX0Wc1Xgp"
      },
      "source": [
        "## 6.3 Test data test to model"
      ]
    },
    {
      "cell_type": "code",
      "execution_count": 49,
      "id": "9ZEBpBus07eV",
      "metadata": {
        "colab": {
          "base_uri": "https://localhost:8080/"
        },
        "id": "9ZEBpBus07eV",
        "outputId": "6bbd0879-7977-4c9d-cedc-2d6cbe28d440"
      },
      "outputs": [
        {
          "name": "stdout",
          "output_type": "stream",
          "text": [
            "Cross-validation RMSE scores (5-fold):\n",
            "Linear Regression: 312099581.29 (+/- 167522193.12)\n",
            "SVR: 230732329.20 (+/- 55986095.88)\n",
            "Ridge: 144761764.76 (+/- 60760605.70)\n",
            "Decision Tree Regressor: 205057342.50 (+/- 74196377.31)\n",
            "XGBoost: 186311113.67 (+/- 96200243.24)\n"
          ]
        }
      ],
      "source": [
        "# Perform cross-validation for each model\n",
        "results = {}\n",
        "for name, model in models.items():\n",
        "    # Use negative mean squared error as scoring and then take the square root for RMSE\n",
        "    scores = cross_val_score(model, X_test[selected_features], y_test, cv=5, scoring='neg_mean_squared_error')\n",
        "    rmse_scores = np.sqrt(-scores)\n",
        "    results[name] = rmse_scores\n",
        "\n",
        "# Print the cross-validation results\n",
        "print(\"Cross-validation RMSE scores (5-fold):\")\n",
        "for name, scores in results.items():\n",
        "    print(f\"{name}: {scores.mean():.2f} (+/- {scores.std():.2f})\")"
      ]
    },
    {
      "cell_type": "markdown",
      "id": "H3d0tb-E1uR_",
      "metadata": {
        "id": "H3d0tb-E1uR_"
      },
      "source": [
        "# 7. Analysis\n",
        "---\n",
        "\n",
        "### **Key Observations**\n",
        "\n",
        "1. **Ridge Regression again achieved the best performance** with the lowest RMSE (\\~145M). This reinforces the earlier finding on X\\_train that regularization strongly benefits this dataset by handling multicollinearity and preventing overfitting.\n",
        "\n",
        "2. **XGBoost (\\~186M)** showed a significant improvement compared to its X\\_train performance, ranking second-best. This suggests that XGBoost generalizes better on unseen data, although still not as strong as Ridge.\n",
        "\n",
        "3. **Decision Tree Regressor (\\~205M)** performed reasonably well but slightly worse than XGBoost, which is expected since XGBoost is an ensemble of decision trees optimized with boosting.\n",
        "\n",
        "4. **SVR (\\~231M)** performed much better on X\\_test than on X\\_train (where it was the worst). This improvement indicates that SVR may have captured some non-linear relationships better in the test set, but its overall performance is still weaker than Ridge and XGBoost.\n",
        "\n",
        "5. **Linear Regression (\\~312M)** had the highest RMSE and also the largest variance (±167M), showing that it is not stable and fails to generalize effectively on test data.\n",
        "\n",
        "---\n",
        "\n",
        "### **Conclusion**\n",
        "\n",
        "* **Ridge Regression remains the best-performing model**, delivering the lowest error and consistent stability across both training and test datasets.\n",
        "* **XGBoost is the second-best candidate**, showing strong generalization potential and could be further improved with hyperparameter tuning.\n",
        "* **Decision Tree and SVR** performed moderately, while **Linear Regression clearly underperforms**.\n",
        "\n",
        "👉 Overall, **Ridge Regression is the most reliable model for car price prediction in this dataset**, with **XGBoost as a strong alternative** for further experimentation.\n",
        "\n",
        "---"
      ]
    },
    {
      "cell_type": "markdown",
      "id": "qhhqYx_l109d",
      "metadata": {
        "id": "qhhqYx_l109d"
      },
      "source": [
        "# 8. Hyper Parameter Tuning\n"
      ]
    },
    {
      "cell_type": "code",
      "execution_count": 50,
      "id": "gqdAkgIb1tYL",
      "metadata": {
        "colab": {
          "base_uri": "https://localhost:8080/"
        },
        "id": "gqdAkgIb1tYL",
        "outputId": "c8b6d518-4f1b-4450-bf3b-dce930dbfeda"
      },
      "outputs": [
        {
          "name": "stdout",
          "output_type": "stream",
          "text": [
            "Last step: regressor\n",
            "Fitting 5 folds for each of 1200 candidates, totalling 6000 fits\n",
            "Best Parameters: {'regressor__alpha': 0.774263682681127, 'regressor__fit_intercept': True, 'regressor__max_iter': 1000, 'regressor__solver': 'auto', 'regressor__tol': 0.001}\n",
            "Best Score: 6.066639593646037e+16\n"
          ]
        }
      ],
      "source": [
        "\n",
        "\n",
        "# Check the last step name in the pipeline\n",
        "last_step_name = list(pipe_ridge.named_steps.keys())[-1]\n",
        "print(\"Last step:\", last_step_name)\n",
        "\n",
        "# Use only solvers that work with Ridge on sparse data\n",
        "valid_solvers = ['auto', 'lsqr', 'sparse_cg', 'sag']\n",
        "\n",
        "# Define parameter grid (lebih ringkas daripada distribusi continuous)\n",
        "param_grid = {\n",
        "    f'{last_step_name}__alpha': np.logspace(-4, 3, 10),   # 10 titik logspace\n",
        "    f'{last_step_name}__solver': valid_solvers,\n",
        "    f'{last_step_name}__fit_intercept': [True, False],\n",
        "    f'{last_step_name}__tol': np.logspace(-4, -2, 5),     # 5 titik logspace\n",
        "    f'{last_step_name}__max_iter': [1000, 5000, 10000]\n",
        "}\n",
        "\n",
        "# GridSearchCV with neg_mean_squared_error as scoring\n",
        "grid_search = GridSearchCV(\n",
        "    pipe_ridge,\n",
        "    param_grid=param_grid,\n",
        "    cv=5,\n",
        "    scoring='neg_mean_squared_error',\n",
        "    n_jobs=-1,\n",
        "    verbose=2\n",
        ")\n",
        "\n",
        "# Fit the model on training data\n",
        "grid_search.fit(X_train[selected_features], y_train)\n",
        "\n",
        "# Best parameters\n",
        "print(\"Best Parameters:\", grid_search.best_params_)\n",
        "print(\"Best Score:\", -grid_search.best_score_)\n"
      ]
    },
    {
      "cell_type": "code",
      "execution_count": 51,
      "id": "DAXrfPJt4Y9V",
      "metadata": {
        "colab": {
          "base_uri": "https://localhost:8080/"
        },
        "id": "DAXrfPJt4Y9V",
        "outputId": "e77f498d-97ed-43e7-8edb-62092afaf431"
      },
      "outputs": [
        {
          "name": "stdout",
          "output_type": "stream",
          "text": [
            "Best Parameters: {'regressor__alpha': 0.774263682681127, 'regressor__fit_intercept': True, 'regressor__max_iter': 1000, 'regressor__solver': 'auto', 'regressor__tol': 0.001}\n",
            "Best CV RMSE: 246305493.11060923\n",
            "Train RMSE: 122497097.52758929\n"
          ]
        }
      ],
      "source": [
        "# Best parameters and best CV score\n",
        "print(\"Best Parameters:\", grid_search.best_params_)\n",
        "print(\"Best CV RMSE:\", np.sqrt(-grid_search.best_score_))\n",
        "\n",
        "# Retrieve the best estimator\n",
        "best_ridge = grid_search.best_estimator_\n",
        "\n",
        "# Evaluate on the test set\n",
        "y_pred = best_ridge.predict(X_train[selected_features])\n",
        "test_rmse = np.sqrt(mean_squared_error(y_train, y_pred))\n",
        "print(\"Train RMSE:\", test_rmse)\n",
        "\n",
        "# Suppress FitFailed warnings\n",
        "warnings.filterwarnings(\"ignore\", category=FitFailedWarning)"
      ]
    },
    {
      "cell_type": "code",
      "execution_count": 52,
      "id": "nlhD7_vL4nku",
      "metadata": {
        "colab": {
          "base_uri": "https://localhost:8080/"
        },
        "id": "nlhD7_vL4nku",
        "outputId": "da81fbad-9ba8-4dbe-cb76-71ed9c492199"
      },
      "outputs": [
        {
          "name": "stdout",
          "output_type": "stream",
          "text": [
            "Test RMSE: 200522020.9871235\n"
          ]
        }
      ],
      "source": [
        "# Evaluate on the test set\n",
        "y_pred = best_ridge.predict(X_test[selected_features])\n",
        "test_rmse = np.sqrt(mean_squared_error(y_test, y_pred))\n",
        "print(\"Test RMSE:\", test_rmse)\n",
        "\n",
        "# Suppress FitFailed warnings\n",
        "warnings.filterwarnings(\"ignore\", category=FitFailedWarning)"
      ]
    },
    {
      "cell_type": "markdown",
      "id": "e55c6dc4",
      "metadata": {},
      "source": [
        "**The Impact of Hyperparameter Tuning**\n",
        "\n",
        "* **Before Tuning:** Ridge was the clear winner. Its test RMSE of **144.8 million** was significantly lower than all other models, proving its strong ability to make accurate predictions on new, unseen data. This demonstrated that the basic Ridge model was already robust and avoided the overfitting issues seen in more complex models like Decision Tree and XGBoost.\n",
        "\n",
        "* **After Tuning:** This is where things got interesting. You used a hyperparameter search to find the best settings for Ridge.\n",
        "    * The model's performance on the **training data** improved, with the RMSE dropping to **122.5 million**. This means the tuned model fit the training set better.\n",
        "    * However, its performance on the **test data** got worse, with the RMSE rising to **200.5 million**.\n",
        "\n",
        "This increase in test error suggests that the tuning process may have been a case of **\"over-tuning,\"** where the model became too specialized for the training data and lost some of its ability to generalize to new data."
      ]
    },
    {
      "cell_type": "markdown",
      "id": "058c6dae",
      "metadata": {},
      "source": [
        "# 9. Model Saving"
      ]
    },
    {
      "cell_type": "markdown",
      "id": "54f3ebee",
      "metadata": {},
      "source": [
        "**Save model before hyperparameter tuning**"
      ]
    },
    {
      "cell_type": "code",
      "execution_count": 53,
      "id": "81d053c3",
      "metadata": {},
      "outputs": [
        {
          "data": {
            "text/html": [
              "<style>#sk-container-id-1 {\n",
              "  /* Definition of color scheme common for light and dark mode */\n",
              "  --sklearn-color-text: black;\n",
              "  --sklearn-color-line: gray;\n",
              "  /* Definition of color scheme for unfitted estimators */\n",
              "  --sklearn-color-unfitted-level-0: #fff5e6;\n",
              "  --sklearn-color-unfitted-level-1: #f6e4d2;\n",
              "  --sklearn-color-unfitted-level-2: #ffe0b3;\n",
              "  --sklearn-color-unfitted-level-3: chocolate;\n",
              "  /* Definition of color scheme for fitted estimators */\n",
              "  --sklearn-color-fitted-level-0: #f0f8ff;\n",
              "  --sklearn-color-fitted-level-1: #d4ebff;\n",
              "  --sklearn-color-fitted-level-2: #b3dbfd;\n",
              "  --sklearn-color-fitted-level-3: cornflowerblue;\n",
              "\n",
              "  /* Specific color for light theme */\n",
              "  --sklearn-color-text-on-default-background: var(--sg-text-color, var(--theme-code-foreground, var(--jp-content-font-color1, black)));\n",
              "  --sklearn-color-background: var(--sg-background-color, var(--theme-background, var(--jp-layout-color0, white)));\n",
              "  --sklearn-color-border-box: var(--sg-text-color, var(--theme-code-foreground, var(--jp-content-font-color1, black)));\n",
              "  --sklearn-color-icon: #696969;\n",
              "\n",
              "  @media (prefers-color-scheme: dark) {\n",
              "    /* Redefinition of color scheme for dark theme */\n",
              "    --sklearn-color-text-on-default-background: var(--sg-text-color, var(--theme-code-foreground, var(--jp-content-font-color1, white)));\n",
              "    --sklearn-color-background: var(--sg-background-color, var(--theme-background, var(--jp-layout-color0, #111)));\n",
              "    --sklearn-color-border-box: var(--sg-text-color, var(--theme-code-foreground, var(--jp-content-font-color1, white)));\n",
              "    --sklearn-color-icon: #878787;\n",
              "  }\n",
              "}\n",
              "\n",
              "#sk-container-id-1 {\n",
              "  color: var(--sklearn-color-text);\n",
              "}\n",
              "\n",
              "#sk-container-id-1 pre {\n",
              "  padding: 0;\n",
              "}\n",
              "\n",
              "#sk-container-id-1 input.sk-hidden--visually {\n",
              "  border: 0;\n",
              "  clip: rect(1px 1px 1px 1px);\n",
              "  clip: rect(1px, 1px, 1px, 1px);\n",
              "  height: 1px;\n",
              "  margin: -1px;\n",
              "  overflow: hidden;\n",
              "  padding: 0;\n",
              "  position: absolute;\n",
              "  width: 1px;\n",
              "}\n",
              "\n",
              "#sk-container-id-1 div.sk-dashed-wrapped {\n",
              "  border: 1px dashed var(--sklearn-color-line);\n",
              "  margin: 0 0.4em 0.5em 0.4em;\n",
              "  box-sizing: border-box;\n",
              "  padding-bottom: 0.4em;\n",
              "  background-color: var(--sklearn-color-background);\n",
              "}\n",
              "\n",
              "#sk-container-id-1 div.sk-container {\n",
              "  /* jupyter's `normalize.less` sets `[hidden] { display: none; }`\n",
              "     but bootstrap.min.css set `[hidden] { display: none !important; }`\n",
              "     so we also need the `!important` here to be able to override the\n",
              "     default hidden behavior on the sphinx rendered scikit-learn.org.\n",
              "     See: https://github.com/scikit-learn/scikit-learn/issues/21755 */\n",
              "  display: inline-block !important;\n",
              "  position: relative;\n",
              "}\n",
              "\n",
              "#sk-container-id-1 div.sk-text-repr-fallback {\n",
              "  display: none;\n",
              "}\n",
              "\n",
              "div.sk-parallel-item,\n",
              "div.sk-serial,\n",
              "div.sk-item {\n",
              "  /* draw centered vertical line to link estimators */\n",
              "  background-image: linear-gradient(var(--sklearn-color-text-on-default-background), var(--sklearn-color-text-on-default-background));\n",
              "  background-size: 2px 100%;\n",
              "  background-repeat: no-repeat;\n",
              "  background-position: center center;\n",
              "}\n",
              "\n",
              "/* Parallel-specific style estimator block */\n",
              "\n",
              "#sk-container-id-1 div.sk-parallel-item::after {\n",
              "  content: \"\";\n",
              "  width: 100%;\n",
              "  border-bottom: 2px solid var(--sklearn-color-text-on-default-background);\n",
              "  flex-grow: 1;\n",
              "}\n",
              "\n",
              "#sk-container-id-1 div.sk-parallel {\n",
              "  display: flex;\n",
              "  align-items: stretch;\n",
              "  justify-content: center;\n",
              "  background-color: var(--sklearn-color-background);\n",
              "  position: relative;\n",
              "}\n",
              "\n",
              "#sk-container-id-1 div.sk-parallel-item {\n",
              "  display: flex;\n",
              "  flex-direction: column;\n",
              "}\n",
              "\n",
              "#sk-container-id-1 div.sk-parallel-item:first-child::after {\n",
              "  align-self: flex-end;\n",
              "  width: 50%;\n",
              "}\n",
              "\n",
              "#sk-container-id-1 div.sk-parallel-item:last-child::after {\n",
              "  align-self: flex-start;\n",
              "  width: 50%;\n",
              "}\n",
              "\n",
              "#sk-container-id-1 div.sk-parallel-item:only-child::after {\n",
              "  width: 0;\n",
              "}\n",
              "\n",
              "/* Serial-specific style estimator block */\n",
              "\n",
              "#sk-container-id-1 div.sk-serial {\n",
              "  display: flex;\n",
              "  flex-direction: column;\n",
              "  align-items: center;\n",
              "  background-color: var(--sklearn-color-background);\n",
              "  padding-right: 1em;\n",
              "  padding-left: 1em;\n",
              "}\n",
              "\n",
              "\n",
              "/* Toggleable style: style used for estimator/Pipeline/ColumnTransformer box that is\n",
              "clickable and can be expanded/collapsed.\n",
              "- Pipeline and ColumnTransformer use this feature and define the default style\n",
              "- Estimators will overwrite some part of the style using the `sk-estimator` class\n",
              "*/\n",
              "\n",
              "/* Pipeline and ColumnTransformer style (default) */\n",
              "\n",
              "#sk-container-id-1 div.sk-toggleable {\n",
              "  /* Default theme specific background. It is overwritten whether we have a\n",
              "  specific estimator or a Pipeline/ColumnTransformer */\n",
              "  background-color: var(--sklearn-color-background);\n",
              "}\n",
              "\n",
              "/* Toggleable label */\n",
              "#sk-container-id-1 label.sk-toggleable__label {\n",
              "  cursor: pointer;\n",
              "  display: block;\n",
              "  width: 100%;\n",
              "  margin-bottom: 0;\n",
              "  padding: 0.5em;\n",
              "  box-sizing: border-box;\n",
              "  text-align: center;\n",
              "}\n",
              "\n",
              "#sk-container-id-1 label.sk-toggleable__label-arrow:before {\n",
              "  /* Arrow on the left of the label */\n",
              "  content: \"▸\";\n",
              "  float: left;\n",
              "  margin-right: 0.25em;\n",
              "  color: var(--sklearn-color-icon);\n",
              "}\n",
              "\n",
              "#sk-container-id-1 label.sk-toggleable__label-arrow:hover:before {\n",
              "  color: var(--sklearn-color-text);\n",
              "}\n",
              "\n",
              "/* Toggleable content - dropdown */\n",
              "\n",
              "#sk-container-id-1 div.sk-toggleable__content {\n",
              "  max-height: 0;\n",
              "  max-width: 0;\n",
              "  overflow: hidden;\n",
              "  text-align: left;\n",
              "  /* unfitted */\n",
              "  background-color: var(--sklearn-color-unfitted-level-0);\n",
              "}\n",
              "\n",
              "#sk-container-id-1 div.sk-toggleable__content.fitted {\n",
              "  /* fitted */\n",
              "  background-color: var(--sklearn-color-fitted-level-0);\n",
              "}\n",
              "\n",
              "#sk-container-id-1 div.sk-toggleable__content pre {\n",
              "  margin: 0.2em;\n",
              "  border-radius: 0.25em;\n",
              "  color: var(--sklearn-color-text);\n",
              "  /* unfitted */\n",
              "  background-color: var(--sklearn-color-unfitted-level-0);\n",
              "}\n",
              "\n",
              "#sk-container-id-1 div.sk-toggleable__content.fitted pre {\n",
              "  /* unfitted */\n",
              "  background-color: var(--sklearn-color-fitted-level-0);\n",
              "}\n",
              "\n",
              "#sk-container-id-1 input.sk-toggleable__control:checked~div.sk-toggleable__content {\n",
              "  /* Expand drop-down */\n",
              "  max-height: 200px;\n",
              "  max-width: 100%;\n",
              "  overflow: auto;\n",
              "}\n",
              "\n",
              "#sk-container-id-1 input.sk-toggleable__control:checked~label.sk-toggleable__label-arrow:before {\n",
              "  content: \"▾\";\n",
              "}\n",
              "\n",
              "/* Pipeline/ColumnTransformer-specific style */\n",
              "\n",
              "#sk-container-id-1 div.sk-label input.sk-toggleable__control:checked~label.sk-toggleable__label {\n",
              "  color: var(--sklearn-color-text);\n",
              "  background-color: var(--sklearn-color-unfitted-level-2);\n",
              "}\n",
              "\n",
              "#sk-container-id-1 div.sk-label.fitted input.sk-toggleable__control:checked~label.sk-toggleable__label {\n",
              "  background-color: var(--sklearn-color-fitted-level-2);\n",
              "}\n",
              "\n",
              "/* Estimator-specific style */\n",
              "\n",
              "/* Colorize estimator box */\n",
              "#sk-container-id-1 div.sk-estimator input.sk-toggleable__control:checked~label.sk-toggleable__label {\n",
              "  /* unfitted */\n",
              "  background-color: var(--sklearn-color-unfitted-level-2);\n",
              "}\n",
              "\n",
              "#sk-container-id-1 div.sk-estimator.fitted input.sk-toggleable__control:checked~label.sk-toggleable__label {\n",
              "  /* fitted */\n",
              "  background-color: var(--sklearn-color-fitted-level-2);\n",
              "}\n",
              "\n",
              "#sk-container-id-1 div.sk-label label.sk-toggleable__label,\n",
              "#sk-container-id-1 div.sk-label label {\n",
              "  /* The background is the default theme color */\n",
              "  color: var(--sklearn-color-text-on-default-background);\n",
              "}\n",
              "\n",
              "/* On hover, darken the color of the background */\n",
              "#sk-container-id-1 div.sk-label:hover label.sk-toggleable__label {\n",
              "  color: var(--sklearn-color-text);\n",
              "  background-color: var(--sklearn-color-unfitted-level-2);\n",
              "}\n",
              "\n",
              "/* Label box, darken color on hover, fitted */\n",
              "#sk-container-id-1 div.sk-label.fitted:hover label.sk-toggleable__label.fitted {\n",
              "  color: var(--sklearn-color-text);\n",
              "  background-color: var(--sklearn-color-fitted-level-2);\n",
              "}\n",
              "\n",
              "/* Estimator label */\n",
              "\n",
              "#sk-container-id-1 div.sk-label label {\n",
              "  font-family: monospace;\n",
              "  font-weight: bold;\n",
              "  display: inline-block;\n",
              "  line-height: 1.2em;\n",
              "}\n",
              "\n",
              "#sk-container-id-1 div.sk-label-container {\n",
              "  text-align: center;\n",
              "}\n",
              "\n",
              "/* Estimator-specific */\n",
              "#sk-container-id-1 div.sk-estimator {\n",
              "  font-family: monospace;\n",
              "  border: 1px dotted var(--sklearn-color-border-box);\n",
              "  border-radius: 0.25em;\n",
              "  box-sizing: border-box;\n",
              "  margin-bottom: 0.5em;\n",
              "  /* unfitted */\n",
              "  background-color: var(--sklearn-color-unfitted-level-0);\n",
              "}\n",
              "\n",
              "#sk-container-id-1 div.sk-estimator.fitted {\n",
              "  /* fitted */\n",
              "  background-color: var(--sklearn-color-fitted-level-0);\n",
              "}\n",
              "\n",
              "/* on hover */\n",
              "#sk-container-id-1 div.sk-estimator:hover {\n",
              "  /* unfitted */\n",
              "  background-color: var(--sklearn-color-unfitted-level-2);\n",
              "}\n",
              "\n",
              "#sk-container-id-1 div.sk-estimator.fitted:hover {\n",
              "  /* fitted */\n",
              "  background-color: var(--sklearn-color-fitted-level-2);\n",
              "}\n",
              "\n",
              "/* Specification for estimator info (e.g. \"i\" and \"?\") */\n",
              "\n",
              "/* Common style for \"i\" and \"?\" */\n",
              "\n",
              ".sk-estimator-doc-link,\n",
              "a:link.sk-estimator-doc-link,\n",
              "a:visited.sk-estimator-doc-link {\n",
              "  float: right;\n",
              "  font-size: smaller;\n",
              "  line-height: 1em;\n",
              "  font-family: monospace;\n",
              "  background-color: var(--sklearn-color-background);\n",
              "  border-radius: 1em;\n",
              "  height: 1em;\n",
              "  width: 1em;\n",
              "  text-decoration: none !important;\n",
              "  margin-left: 1ex;\n",
              "  /* unfitted */\n",
              "  border: var(--sklearn-color-unfitted-level-1) 1pt solid;\n",
              "  color: var(--sklearn-color-unfitted-level-1);\n",
              "}\n",
              "\n",
              ".sk-estimator-doc-link.fitted,\n",
              "a:link.sk-estimator-doc-link.fitted,\n",
              "a:visited.sk-estimator-doc-link.fitted {\n",
              "  /* fitted */\n",
              "  border: var(--sklearn-color-fitted-level-1) 1pt solid;\n",
              "  color: var(--sklearn-color-fitted-level-1);\n",
              "}\n",
              "\n",
              "/* On hover */\n",
              "div.sk-estimator:hover .sk-estimator-doc-link:hover,\n",
              ".sk-estimator-doc-link:hover,\n",
              "div.sk-label-container:hover .sk-estimator-doc-link:hover,\n",
              ".sk-estimator-doc-link:hover {\n",
              "  /* unfitted */\n",
              "  background-color: var(--sklearn-color-unfitted-level-3);\n",
              "  color: var(--sklearn-color-background);\n",
              "  text-decoration: none;\n",
              "}\n",
              "\n",
              "div.sk-estimator.fitted:hover .sk-estimator-doc-link.fitted:hover,\n",
              ".sk-estimator-doc-link.fitted:hover,\n",
              "div.sk-label-container:hover .sk-estimator-doc-link.fitted:hover,\n",
              ".sk-estimator-doc-link.fitted:hover {\n",
              "  /* fitted */\n",
              "  background-color: var(--sklearn-color-fitted-level-3);\n",
              "  color: var(--sklearn-color-background);\n",
              "  text-decoration: none;\n",
              "}\n",
              "\n",
              "/* Span, style for the box shown on hovering the info icon */\n",
              ".sk-estimator-doc-link span {\n",
              "  display: none;\n",
              "  z-index: 9999;\n",
              "  position: relative;\n",
              "  font-weight: normal;\n",
              "  right: .2ex;\n",
              "  padding: .5ex;\n",
              "  margin: .5ex;\n",
              "  width: min-content;\n",
              "  min-width: 20ex;\n",
              "  max-width: 50ex;\n",
              "  color: var(--sklearn-color-text);\n",
              "  box-shadow: 2pt 2pt 4pt #999;\n",
              "  /* unfitted */\n",
              "  background: var(--sklearn-color-unfitted-level-0);\n",
              "  border: .5pt solid var(--sklearn-color-unfitted-level-3);\n",
              "}\n",
              "\n",
              ".sk-estimator-doc-link.fitted span {\n",
              "  /* fitted */\n",
              "  background: var(--sklearn-color-fitted-level-0);\n",
              "  border: var(--sklearn-color-fitted-level-3);\n",
              "}\n",
              "\n",
              ".sk-estimator-doc-link:hover span {\n",
              "  display: block;\n",
              "}\n",
              "\n",
              "/* \"?\"-specific style due to the `<a>` HTML tag */\n",
              "\n",
              "#sk-container-id-1 a.estimator_doc_link {\n",
              "  float: right;\n",
              "  font-size: 1rem;\n",
              "  line-height: 1em;\n",
              "  font-family: monospace;\n",
              "  background-color: var(--sklearn-color-background);\n",
              "  border-radius: 1rem;\n",
              "  height: 1rem;\n",
              "  width: 1rem;\n",
              "  text-decoration: none;\n",
              "  /* unfitted */\n",
              "  color: var(--sklearn-color-unfitted-level-1);\n",
              "  border: var(--sklearn-color-unfitted-level-1) 1pt solid;\n",
              "}\n",
              "\n",
              "#sk-container-id-1 a.estimator_doc_link.fitted {\n",
              "  /* fitted */\n",
              "  border: var(--sklearn-color-fitted-level-1) 1pt solid;\n",
              "  color: var(--sklearn-color-fitted-level-1);\n",
              "}\n",
              "\n",
              "/* On hover */\n",
              "#sk-container-id-1 a.estimator_doc_link:hover {\n",
              "  /* unfitted */\n",
              "  background-color: var(--sklearn-color-unfitted-level-3);\n",
              "  color: var(--sklearn-color-background);\n",
              "  text-decoration: none;\n",
              "}\n",
              "\n",
              "#sk-container-id-1 a.estimator_doc_link.fitted:hover {\n",
              "  /* fitted */\n",
              "  background-color: var(--sklearn-color-fitted-level-3);\n",
              "}\n",
              "</style><div id=\"sk-container-id-1\" class=\"sk-top-container\"><div class=\"sk-text-repr-fallback\"><pre>Pipeline(steps=[(&#x27;preprocessor&#x27;,\n",
              "                 ColumnTransformer(transformers=[(&#x27;num_pipeline&#x27;,\n",
              "                                                  Pipeline(steps=[(&#x27;winsorizer&#x27;,\n",
              "                                                                   Winsorizer(capping_method=&#x27;iqr&#x27;,\n",
              "                                                                              fold=3,\n",
              "                                                                              tail=&#x27;both&#x27;,\n",
              "                                                                              variables=[&#x27;Year&#x27;])),\n",
              "                                                                  (&#x27;scaler&#x27;,\n",
              "                                                                   RobustScaler())]),\n",
              "                                                  [&#x27;Year&#x27;]),\n",
              "                                                 (&#x27;Nominal_encoding&#x27;,\n",
              "                                                  Pipeline(steps=[(&#x27;OneHotEncoder&#x27;,\n",
              "                                                                   OneHotEncoder(handle_unknown=&#x27;ignore&#x27;))]),\n",
              "                                                  [&#x27;Brand&#x27;, &#x27;Type&#x27;, &#x27;Fuel&#x27;,\n",
              "                                                   &#x27;Transmissio...\n",
              "                                                                                               &#x27;55.000-60.000 &#x27;\n",
              "                                                                                               &#x27;Km&#x27;,\n",
              "                                                                                               &#x27;60.000-65.000 &#x27;\n",
              "                                                                                               &#x27;Km&#x27;,\n",
              "                                                                                               &#x27;65.000-70.000 &#x27;\n",
              "                                                                                               &#x27;Km&#x27;,\n",
              "                                                                                               &#x27;70000 &#x27;\n",
              "                                                                                               &#x27;Km&#x27;,\n",
              "                                                                                               &#x27;70.000-75.000 &#x27;\n",
              "                                                                                               &#x27;Km&#x27;,\n",
              "                                                                                               &#x27;75.000-80.000 &#x27;\n",
              "                                                                                               &#x27;Km&#x27;,\n",
              "                                                                                               &#x27;80.000-85.000 &#x27;\n",
              "                                                                                               &#x27;Km&#x27;,\n",
              "                                                                                               &#x27;81720 &#x27;\n",
              "                                                                                               &#x27;Km&#x27;,\n",
              "                                                                                               &#x27;85.000-90.000 &#x27;\n",
              "                                                                                               &#x27;Km&#x27;,\n",
              "                                                                                               &#x27;90000 &#x27;\n",
              "                                                                                               &#x27;Km&#x27;,\n",
              "                                                                                               &#x27;90.000-95.000 &#x27;\n",
              "                                                                                               &#x27;Km&#x27;,\n",
              "                                                                                               &#x27;95.000-100.000 &#x27;\n",
              "                                                                                               &#x27;Km&#x27;,\n",
              "                                                                                               &#x27;100.000-105.000 &#x27;\n",
              "                                                                                               &#x27;Km&#x27;,\n",
              "                                                                                               &#x27;105.000-110.000 &#x27;\n",
              "                                                                                               &#x27;Km&#x27;, ...]],\n",
              "                                                                                  handle_unknown=&#x27;use_encoded_value&#x27;,\n",
              "                                                                                  unknown_value=-1))]),\n",
              "                                                  [&#x27;Range&#x27;])])),\n",
              "                (&#x27;regressor&#x27;, Ridge())])</pre><b>In a Jupyter environment, please rerun this cell to show the HTML representation or trust the notebook. <br />On GitHub, the HTML representation is unable to render, please try loading this page with nbviewer.org.</b></div><div class=\"sk-container\" hidden><div class=\"sk-item sk-dashed-wrapped\"><div class=\"sk-label-container\"><div class=\"sk-label fitted sk-toggleable\"><input class=\"sk-toggleable__control sk-hidden--visually\" id=\"sk-estimator-id-1\" type=\"checkbox\" ><label for=\"sk-estimator-id-1\" class=\"sk-toggleable__label fitted sk-toggleable__label-arrow fitted\">&nbsp;&nbsp;Pipeline<a class=\"sk-estimator-doc-link fitted\" rel=\"noreferrer\" target=\"_blank\" href=\"https://scikit-learn.org/1.5/modules/generated/sklearn.pipeline.Pipeline.html\">?<span>Documentation for Pipeline</span></a><span class=\"sk-estimator-doc-link fitted\">i<span>Fitted</span></span></label><div class=\"sk-toggleable__content fitted\"><pre>Pipeline(steps=[(&#x27;preprocessor&#x27;,\n",
              "                 ColumnTransformer(transformers=[(&#x27;num_pipeline&#x27;,\n",
              "                                                  Pipeline(steps=[(&#x27;winsorizer&#x27;,\n",
              "                                                                   Winsorizer(capping_method=&#x27;iqr&#x27;,\n",
              "                                                                              fold=3,\n",
              "                                                                              tail=&#x27;both&#x27;,\n",
              "                                                                              variables=[&#x27;Year&#x27;])),\n",
              "                                                                  (&#x27;scaler&#x27;,\n",
              "                                                                   RobustScaler())]),\n",
              "                                                  [&#x27;Year&#x27;]),\n",
              "                                                 (&#x27;Nominal_encoding&#x27;,\n",
              "                                                  Pipeline(steps=[(&#x27;OneHotEncoder&#x27;,\n",
              "                                                                   OneHotEncoder(handle_unknown=&#x27;ignore&#x27;))]),\n",
              "                                                  [&#x27;Brand&#x27;, &#x27;Type&#x27;, &#x27;Fuel&#x27;,\n",
              "                                                   &#x27;Transmissio...\n",
              "                                                                                               &#x27;55.000-60.000 &#x27;\n",
              "                                                                                               &#x27;Km&#x27;,\n",
              "                                                                                               &#x27;60.000-65.000 &#x27;\n",
              "                                                                                               &#x27;Km&#x27;,\n",
              "                                                                                               &#x27;65.000-70.000 &#x27;\n",
              "                                                                                               &#x27;Km&#x27;,\n",
              "                                                                                               &#x27;70000 &#x27;\n",
              "                                                                                               &#x27;Km&#x27;,\n",
              "                                                                                               &#x27;70.000-75.000 &#x27;\n",
              "                                                                                               &#x27;Km&#x27;,\n",
              "                                                                                               &#x27;75.000-80.000 &#x27;\n",
              "                                                                                               &#x27;Km&#x27;,\n",
              "                                                                                               &#x27;80.000-85.000 &#x27;\n",
              "                                                                                               &#x27;Km&#x27;,\n",
              "                                                                                               &#x27;81720 &#x27;\n",
              "                                                                                               &#x27;Km&#x27;,\n",
              "                                                                                               &#x27;85.000-90.000 &#x27;\n",
              "                                                                                               &#x27;Km&#x27;,\n",
              "                                                                                               &#x27;90000 &#x27;\n",
              "                                                                                               &#x27;Km&#x27;,\n",
              "                                                                                               &#x27;90.000-95.000 &#x27;\n",
              "                                                                                               &#x27;Km&#x27;,\n",
              "                                                                                               &#x27;95.000-100.000 &#x27;\n",
              "                                                                                               &#x27;Km&#x27;,\n",
              "                                                                                               &#x27;100.000-105.000 &#x27;\n",
              "                                                                                               &#x27;Km&#x27;,\n",
              "                                                                                               &#x27;105.000-110.000 &#x27;\n",
              "                                                                                               &#x27;Km&#x27;, ...]],\n",
              "                                                                                  handle_unknown=&#x27;use_encoded_value&#x27;,\n",
              "                                                                                  unknown_value=-1))]),\n",
              "                                                  [&#x27;Range&#x27;])])),\n",
              "                (&#x27;regressor&#x27;, Ridge())])</pre></div> </div></div><div class=\"sk-serial\"><div class=\"sk-item sk-dashed-wrapped\"><div class=\"sk-label-container\"><div class=\"sk-label fitted sk-toggleable\"><input class=\"sk-toggleable__control sk-hidden--visually\" id=\"sk-estimator-id-2\" type=\"checkbox\" ><label for=\"sk-estimator-id-2\" class=\"sk-toggleable__label fitted sk-toggleable__label-arrow fitted\">&nbsp;preprocessor: ColumnTransformer<a class=\"sk-estimator-doc-link fitted\" rel=\"noreferrer\" target=\"_blank\" href=\"https://scikit-learn.org/1.5/modules/generated/sklearn.compose.ColumnTransformer.html\">?<span>Documentation for preprocessor: ColumnTransformer</span></a></label><div class=\"sk-toggleable__content fitted\"><pre>ColumnTransformer(transformers=[(&#x27;num_pipeline&#x27;,\n",
              "                                 Pipeline(steps=[(&#x27;winsorizer&#x27;,\n",
              "                                                  Winsorizer(capping_method=&#x27;iqr&#x27;,\n",
              "                                                             fold=3,\n",
              "                                                             tail=&#x27;both&#x27;,\n",
              "                                                             variables=[&#x27;Year&#x27;])),\n",
              "                                                 (&#x27;scaler&#x27;, RobustScaler())]),\n",
              "                                 [&#x27;Year&#x27;]),\n",
              "                                (&#x27;Nominal_encoding&#x27;,\n",
              "                                 Pipeline(steps=[(&#x27;OneHotEncoder&#x27;,\n",
              "                                                  OneHotEncoder(handle_unknown=&#x27;ignore&#x27;))]),\n",
              "                                 [&#x27;Brand&#x27;, &#x27;Type&#x27;, &#x27;Fuel&#x27;, &#x27;Transmission&#x27;,\n",
              "                                  &#x27;Engine&#x27;]),\n",
              "                                (&#x27;Ordinal_encoding...\n",
              "                                                                              &#x27;50.000-55.000 &#x27;\n",
              "                                                                              &#x27;Km&#x27;,\n",
              "                                                                              &#x27;55.000-60.000 &#x27;\n",
              "                                                                              &#x27;Km&#x27;,\n",
              "                                                                              &#x27;60.000-65.000 &#x27;\n",
              "                                                                              &#x27;Km&#x27;,\n",
              "                                                                              &#x27;65.000-70.000 &#x27;\n",
              "                                                                              &#x27;Km&#x27;,\n",
              "                                                                              &#x27;70000 &#x27;\n",
              "                                                                              &#x27;Km&#x27;,\n",
              "                                                                              &#x27;70.000-75.000 &#x27;\n",
              "                                                                              &#x27;Km&#x27;,\n",
              "                                                                              &#x27;75.000-80.000 &#x27;\n",
              "                                                                              &#x27;Km&#x27;,\n",
              "                                                                              &#x27;80.000-85.000 &#x27;\n",
              "                                                                              &#x27;Km&#x27;,\n",
              "                                                                              &#x27;81720 &#x27;\n",
              "                                                                              &#x27;Km&#x27;,\n",
              "                                                                              &#x27;85.000-90.000 &#x27;\n",
              "                                                                              &#x27;Km&#x27;,\n",
              "                                                                              &#x27;90000 &#x27;\n",
              "                                                                              &#x27;Km&#x27;,\n",
              "                                                                              &#x27;90.000-95.000 &#x27;\n",
              "                                                                              &#x27;Km&#x27;,\n",
              "                                                                              &#x27;95.000-100.000 &#x27;\n",
              "                                                                              &#x27;Km&#x27;,\n",
              "                                                                              &#x27;100.000-105.000 &#x27;\n",
              "                                                                              &#x27;Km&#x27;,\n",
              "                                                                              &#x27;105.000-110.000 &#x27;\n",
              "                                                                              &#x27;Km&#x27;, ...]],\n",
              "                                                                 handle_unknown=&#x27;use_encoded_value&#x27;,\n",
              "                                                                 unknown_value=-1))]),\n",
              "                                 [&#x27;Range&#x27;])])</pre></div> </div></div><div class=\"sk-parallel\"><div class=\"sk-parallel-item\"><div class=\"sk-item\"><div class=\"sk-label-container\"><div class=\"sk-label fitted sk-toggleable\"><input class=\"sk-toggleable__control sk-hidden--visually\" id=\"sk-estimator-id-3\" type=\"checkbox\" ><label for=\"sk-estimator-id-3\" class=\"sk-toggleable__label fitted sk-toggleable__label-arrow fitted\">num_pipeline</label><div class=\"sk-toggleable__content fitted\"><pre>[&#x27;Year&#x27;]</pre></div> </div></div><div class=\"sk-serial\"><div class=\"sk-item\"><div class=\"sk-serial\"><div class=\"sk-item\"><div class=\"sk-estimator fitted sk-toggleable\"><input class=\"sk-toggleable__control sk-hidden--visually\" id=\"sk-estimator-id-4\" type=\"checkbox\" ><label for=\"sk-estimator-id-4\" class=\"sk-toggleable__label fitted sk-toggleable__label-arrow fitted\">Winsorizer</label><div class=\"sk-toggleable__content fitted\"><pre>Winsorizer(capping_method=&#x27;iqr&#x27;, fold=3, tail=&#x27;both&#x27;, variables=[&#x27;Year&#x27;])</pre></div> </div></div><div class=\"sk-item\"><div class=\"sk-estimator fitted sk-toggleable\"><input class=\"sk-toggleable__control sk-hidden--visually\" id=\"sk-estimator-id-5\" type=\"checkbox\" ><label for=\"sk-estimator-id-5\" class=\"sk-toggleable__label fitted sk-toggleable__label-arrow fitted\">&nbsp;RobustScaler<a class=\"sk-estimator-doc-link fitted\" rel=\"noreferrer\" target=\"_blank\" href=\"https://scikit-learn.org/1.5/modules/generated/sklearn.preprocessing.RobustScaler.html\">?<span>Documentation for RobustScaler</span></a></label><div class=\"sk-toggleable__content fitted\"><pre>RobustScaler()</pre></div> </div></div></div></div></div></div></div><div class=\"sk-parallel-item\"><div class=\"sk-item\"><div class=\"sk-label-container\"><div class=\"sk-label fitted sk-toggleable\"><input class=\"sk-toggleable__control sk-hidden--visually\" id=\"sk-estimator-id-6\" type=\"checkbox\" ><label for=\"sk-estimator-id-6\" class=\"sk-toggleable__label fitted sk-toggleable__label-arrow fitted\">Nominal_encoding</label><div class=\"sk-toggleable__content fitted\"><pre>[&#x27;Brand&#x27;, &#x27;Type&#x27;, &#x27;Fuel&#x27;, &#x27;Transmission&#x27;, &#x27;Engine&#x27;]</pre></div> </div></div><div class=\"sk-serial\"><div class=\"sk-item\"><div class=\"sk-serial\"><div class=\"sk-item\"><div class=\"sk-estimator fitted sk-toggleable\"><input class=\"sk-toggleable__control sk-hidden--visually\" id=\"sk-estimator-id-7\" type=\"checkbox\" ><label for=\"sk-estimator-id-7\" class=\"sk-toggleable__label fitted sk-toggleable__label-arrow fitted\">&nbsp;OneHotEncoder<a class=\"sk-estimator-doc-link fitted\" rel=\"noreferrer\" target=\"_blank\" href=\"https://scikit-learn.org/1.5/modules/generated/sklearn.preprocessing.OneHotEncoder.html\">?<span>Documentation for OneHotEncoder</span></a></label><div class=\"sk-toggleable__content fitted\"><pre>OneHotEncoder(handle_unknown=&#x27;ignore&#x27;)</pre></div> </div></div></div></div></div></div></div><div class=\"sk-parallel-item\"><div class=\"sk-item\"><div class=\"sk-label-container\"><div class=\"sk-label fitted sk-toggleable\"><input class=\"sk-toggleable__control sk-hidden--visually\" id=\"sk-estimator-id-8\" type=\"checkbox\" ><label for=\"sk-estimator-id-8\" class=\"sk-toggleable__label fitted sk-toggleable__label-arrow fitted\">Ordinal_encoding</label><div class=\"sk-toggleable__content fitted\"><pre>[&#x27;Range&#x27;]</pre></div> </div></div><div class=\"sk-serial\"><div class=\"sk-item\"><div class=\"sk-serial\"><div class=\"sk-item\"><div class=\"sk-estimator fitted sk-toggleable\"><input class=\"sk-toggleable__control sk-hidden--visually\" id=\"sk-estimator-id-9\" type=\"checkbox\" ><label for=\"sk-estimator-id-9\" class=\"sk-toggleable__label fitted sk-toggleable__label-arrow fitted\">&nbsp;OrdinalEncoder<a class=\"sk-estimator-doc-link fitted\" rel=\"noreferrer\" target=\"_blank\" href=\"https://scikit-learn.org/1.5/modules/generated/sklearn.preprocessing.OrdinalEncoder.html\">?<span>Documentation for OrdinalEncoder</span></a></label><div class=\"sk-toggleable__content fitted\"><pre>OrdinalEncoder(categories=[[&#x27;0 Km&#x27;, &#x27;0-5.000 Km&#x27;, &#x27;5.000-10.000 Km&#x27;, &#x27;10000 Km&#x27;,\n",
              "                            &#x27;10.000-15.000 Km&#x27;, &#x27;15.000-20.000 Km&#x27;,\n",
              "                            &#x27;20.000-25.000 Km&#x27;, &#x27;25.000-30.000 Km&#x27;, &#x27;30000 Km&#x27;,\n",
              "                            &#x27;30.000-35.000 Km&#x27;, &#x27;35.000-40.000 Km&#x27;, &#x27;40000 Km&#x27;,\n",
              "                            &#x27;40.000-45.000 Km&#x27;, &#x27;45.000-50.000 Km&#x27;, &#x27;50000 Km&#x27;,\n",
              "                            &#x27;50.000-55.000 Km&#x27;, &#x27;55.000-60.000 Km&#x27;,\n",
              "                            &#x27;60.000-65.000 Km&#x27;, &#x27;65.000-70.000 Km&#x27;, &#x27;70000 Km&#x27;,\n",
              "                            &#x27;70.000-75.000 Km&#x27;, &#x27;75.000-80.000 Km&#x27;,\n",
              "                            &#x27;80.000-85.000 Km&#x27;, &#x27;81720 Km&#x27;, &#x27;85.000-90.000 Km&#x27;,\n",
              "                            &#x27;90000 Km&#x27;, &#x27;90.000-95.000 Km&#x27;, &#x27;95.000-100.000 Km&#x27;,\n",
              "                            &#x27;100.000-105.000 Km&#x27;, &#x27;105.000-110.000 Km&#x27;, ...]],\n",
              "               handle_unknown=&#x27;use_encoded_value&#x27;, unknown_value=-1)</pre></div> </div></div></div></div></div></div></div></div></div><div class=\"sk-item\"><div class=\"sk-estimator fitted sk-toggleable\"><input class=\"sk-toggleable__control sk-hidden--visually\" id=\"sk-estimator-id-10\" type=\"checkbox\" ><label for=\"sk-estimator-id-10\" class=\"sk-toggleable__label fitted sk-toggleable__label-arrow fitted\">&nbsp;Ridge<a class=\"sk-estimator-doc-link fitted\" rel=\"noreferrer\" target=\"_blank\" href=\"https://scikit-learn.org/1.5/modules/generated/sklearn.linear_model.Ridge.html\">?<span>Documentation for Ridge</span></a></label><div class=\"sk-toggleable__content fitted\"><pre>Ridge()</pre></div> </div></div></div></div></div></div>"
            ],
            "text/plain": [
              "Pipeline(steps=[('preprocessor',\n",
              "                 ColumnTransformer(transformers=[('num_pipeline',\n",
              "                                                  Pipeline(steps=[('winsorizer',\n",
              "                                                                   Winsorizer(capping_method='iqr',\n",
              "                                                                              fold=3,\n",
              "                                                                              tail='both',\n",
              "                                                                              variables=['Year'])),\n",
              "                                                                  ('scaler',\n",
              "                                                                   RobustScaler())]),\n",
              "                                                  ['Year']),\n",
              "                                                 ('Nominal_encoding',\n",
              "                                                  Pipeline(steps=[('OneHotEncoder',\n",
              "                                                                   OneHotEncoder(handle_unknown='ignore'))]),\n",
              "                                                  ['Brand', 'Type', 'Fuel',\n",
              "                                                   'Transmissio...\n",
              "                                                                                               '55.000-60.000 '\n",
              "                                                                                               'Km',\n",
              "                                                                                               '60.000-65.000 '\n",
              "                                                                                               'Km',\n",
              "                                                                                               '65.000-70.000 '\n",
              "                                                                                               'Km',\n",
              "                                                                                               '70000 '\n",
              "                                                                                               'Km',\n",
              "                                                                                               '70.000-75.000 '\n",
              "                                                                                               'Km',\n",
              "                                                                                               '75.000-80.000 '\n",
              "                                                                                               'Km',\n",
              "                                                                                               '80.000-85.000 '\n",
              "                                                                                               'Km',\n",
              "                                                                                               '81720 '\n",
              "                                                                                               'Km',\n",
              "                                                                                               '85.000-90.000 '\n",
              "                                                                                               'Km',\n",
              "                                                                                               '90000 '\n",
              "                                                                                               'Km',\n",
              "                                                                                               '90.000-95.000 '\n",
              "                                                                                               'Km',\n",
              "                                                                                               '95.000-100.000 '\n",
              "                                                                                               'Km',\n",
              "                                                                                               '100.000-105.000 '\n",
              "                                                                                               'Km',\n",
              "                                                                                               '105.000-110.000 '\n",
              "                                                                                               'Km', ...]],\n",
              "                                                                                  handle_unknown='use_encoded_value',\n",
              "                                                                                  unknown_value=-1))]),\n",
              "                                                  ['Range'])])),\n",
              "                ('regressor', Ridge())])"
            ]
          },
          "execution_count": 53,
          "metadata": {},
          "output_type": "execute_result"
        }
      ],
      "source": [
        "# Save the model ridge to a file\n",
        "clf = pipe_ridge.fit(X_train[selected_features], y_train)\n",
        "clf\n"
      ]
    },
    {
      "cell_type": "code",
      "execution_count": 54,
      "id": "29c4bdae",
      "metadata": {},
      "outputs": [],
      "source": [
        "with open ('ridge_model.pkl', 'wb') as f:\n",
        "    pickle.dump(clf, f)\n",
        "with open('selected_features','w') as f2:\n",
        "    json.dump(selected_features, f2)"
      ]
    },
    {
      "cell_type": "markdown",
      "id": "oVwdpBiMxnJG",
      "metadata": {
        "id": "oVwdpBiMxnJG"
      },
      "source": [
        "# 10. Summary\n"
      ]
    },
    {
      "cell_type": "markdown",
      "id": "01JmL8b4S2vM",
      "metadata": {
        "id": "01JmL8b4S2vM"
      },
      "source": [
        "\n",
        "### **Model Performance Summary**\n",
        "\n",
        "Your project aimed to predict car prices using various regression models. The results show that **Ridge Regression was the most reliable model** you tested, consistently outperforming Linear Regression, SVR, Decision Tree, and XGBoost.\n",
        "\n",
        "---\n",
        "\n",
        "### **The Impact of Hyperparameter Tuning**\n",
        "\n",
        "Before tuning, **Ridge Regression** was the top performer with a test RMSE of **144.8 million**, showing strong generalization on new data. This proved the model was already robust.\n",
        "\n",
        "However, after tuning, the model's performance on the **test data worsened**, with the RMSE increasing to **200.5 million**. This suggests the tuning process led to **overfitting**, causing the model to lose its ability to generalize effectively to unseen data.\n",
        "\n",
        "\n",
        "### **Understanding the Data's Challenges**\n",
        "\n",
        "The overall prediction errors (as shown by the RMSE values) are a direct result of your dataset's complexity and high variability.\n",
        "\n",
        "* **Extreme Price Range:** The dataset contains a huge range of car prices, from an affordable Honda City at 65 million IDR to a premium Toyota Land Cruiser at 2.5 billion IDR. This massive gap makes it incredibly difficult for a single model to accurately predict prices across the entire spectrum.\n",
        "* **Outlier Sensitivity:** Since the RMSE metric is highly sensitive to large errors, a single poor prediction on an expensive car (like the Land Cruiser) can dramatically inflate the overall error score, making the model seem less accurate than it might be for the majority of standard cars.\n",
        "\n",
        "---\n",
        "\n",
        "### **Next Steps and Recommendations**\n",
        "\n",
        "To improve your model's performance, you should consider these strategies:\n",
        "\n",
        "1.  **Refine Your Hyperparameter Search:** The current tuning might have been too narrow. Try a wider search for the `alpha` parameter, perhaps using a logarithmic scale, and experiment with different solvers to see if they offer better stability.\n",
        "\n",
        "2.  **Explore Other Models:** Consider trying the **ElasticNet** model. It combines the strengths of Ridge and Lasso regression, which might help you find a better balance between fitting the training data and generalizing to the test data.\n",
        "\n",
        "3.  **Segment the Data:** The most promising approach might be to **split your dataset** and train separate models for different car segments (e.g., one model for luxury cars, another for economy cars). This would allow each model to focus on a more consistent price range, leading to more accurate predictions within each group.\n",
        "\n",
        "This project successfully identified Ridge as the best baseline model, but it also highlights the challenge of optimizing a model on a highly diverse dataset. By adjusting your tuning strategy and considering a segmented approach, you can likely achieve more precise results.\n"
      ]
    }
  ],
  "metadata": {
    "accelerator": "GPU",
    "colab": {
      "gpuType": "T4",
      "provenance": []
    },
    "kernelspec": {
      "display_name": "base",
      "language": "python",
      "name": "python3"
    },
    "language_info": {
      "codemirror_mode": {
        "name": "ipython",
        "version": 3
      },
      "file_extension": ".py",
      "mimetype": "text/x-python",
      "name": "python",
      "nbconvert_exporter": "python",
      "pygments_lexer": "ipython3",
      "version": "3.12.4"
    }
  },
  "nbformat": 4,
  "nbformat_minor": 5
}
